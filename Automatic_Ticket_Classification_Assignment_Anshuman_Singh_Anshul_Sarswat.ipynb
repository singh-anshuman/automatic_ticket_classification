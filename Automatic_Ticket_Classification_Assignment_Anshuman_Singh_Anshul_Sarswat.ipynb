{
 "cells": [
  {
   "cell_type": "markdown",
   "metadata": {
    "id": "rhR-ZUkwJrFn"
   },
   "source": [
    "## Problem Statement\n",
    "\n",
    "You need to build a model that is able to classify customer complaints based on the products/services. By doing so, you can segregate these tickets into their relevant categories and, therefore, help in the quick resolution of the issue.\n",
    "\n",
    "You will be doing topic modelling on the <b>.json</b> data provided by the company. Since this data is not labelled, you need to apply NMF to analyse patterns and classify tickets into the following five clusters based on their products/services:\n",
    "\n",
    "* Credit card / Prepaid card\n",
    "\n",
    "* Bank account services\n",
    "\n",
    "* Theft/Dispute reporting\n",
    "\n",
    "* Mortgages/loans\n",
    "\n",
    "* Others\n",
    "\n",
    "\n",
    "With the help of topic modelling, you will be able to map each ticket onto its respective department/category. You can then use this data to train any supervised model such as logistic regression, decision tree or random forest. Using this trained model, you can classify any new customer complaint support ticket into its relevant department."
   ]
  },
  {
   "cell_type": "markdown",
   "metadata": {
    "id": "mcgXVNyaLUFS"
   },
   "source": [
    "## Pipelines that needs to be performed:\n",
    "\n",
    "You need to perform the following eight major tasks to complete the assignment:\n",
    "\n",
    "1.  Data loading\n",
    "\n",
    "2. Text preprocessing\n",
    "\n",
    "3. Exploratory data analysis (EDA)\n",
    "\n",
    "4. Feature extraction\n",
    "\n",
    "5. Topic modelling\n",
    "\n",
    "6. Model building using supervised learning\n",
    "\n",
    "7. Model training and evaluation\n",
    "\n",
    "8. Model inference"
   ]
  },
  {
   "cell_type": "markdown",
   "metadata": {
    "id": "JuLFIymAL58u"
   },
   "source": [
    "## Importing the necessary libraries"
   ]
  },
  {
   "cell_type": "code",
   "execution_count": 5,
   "metadata": {
    "id": "O-Q9pqrcJrFr"
   },
   "outputs": [],
   "source": [
    "import json\n",
    "import numpy as np\n",
    "import pandas as pd\n",
    "import re, nltk, spacy, string\n",
    "import en_core_web_sm\n",
    "nlp = en_core_web_sm.load()\n",
    "import seaborn as sns\n",
    "import matplotlib.pyplot as plt\n",
    "%matplotlib inline\n",
    "\n",
    "from plotly.offline import plot\n",
    "import plotly.graph_objects as go\n",
    "import plotly.express as px\n",
    "\n",
    "from sklearn.feature_extraction.text import CountVectorizer, TfidfVectorizer, TfidfTransformer\n",
    "from sklearn.model_selection import train_test_split\n",
    "from pprint import pprint\n",
    "\n",
    "import nltk\n",
    "from nltk.stem import WordNetLemmatizer\n",
    "from nltk.corpus import wordnet"
   ]
  },
  {
   "cell_type": "markdown",
   "metadata": {
    "id": "KtRLCsNVJrFt"
   },
   "source": [
    "## Loading the data\n",
    "\n",
    "The data is in JSON format and we need to convert it to a dataframe."
   ]
  },
  {
   "cell_type": "code",
   "execution_count": 7,
   "metadata": {
    "id": "puVzIf_iJrFt"
   },
   "outputs": [],
   "source": [
    "# Opening JSON file\n",
    "file_path='complaints-2021-05-14_08_16.json'\n",
    "with open(file_path, 'r') as file:\n",
    "    data = json.load(file)\n",
    "\n",
    "# returns JSON object as\n",
    "# a dictionary\n",
    "# data = json.load(f)\n",
    "df=pd.json_normalize(data)"
   ]
  },
  {
   "cell_type": "markdown",
   "metadata": {
    "id": "_xYpH-sAJrFu"
   },
   "source": [
    "## Data preparation"
   ]
  },
  {
   "cell_type": "code",
   "execution_count": 9,
   "metadata": {
    "id": "Lf8ufHH5JrFu"
   },
   "outputs": [
    {
     "name": "stdout",
     "output_type": "stream",
     "text": [
      "Dataset Shape:  (78313, 22)\n"
     ]
    },
    {
     "data": {
      "text/html": [
       "<div>\n",
       "<style scoped>\n",
       "    .dataframe tbody tr th:only-of-type {\n",
       "        vertical-align: middle;\n",
       "    }\n",
       "\n",
       "    .dataframe tbody tr th {\n",
       "        vertical-align: top;\n",
       "    }\n",
       "\n",
       "    .dataframe thead th {\n",
       "        text-align: right;\n",
       "    }\n",
       "</style>\n",
       "<table border=\"1\" class=\"dataframe\">\n",
       "  <thead>\n",
       "    <tr style=\"text-align: right;\">\n",
       "      <th></th>\n",
       "      <th>_index</th>\n",
       "      <th>_type</th>\n",
       "      <th>_id</th>\n",
       "      <th>_score</th>\n",
       "      <th>_source.tags</th>\n",
       "      <th>_source.zip_code</th>\n",
       "      <th>_source.complaint_id</th>\n",
       "      <th>_source.issue</th>\n",
       "      <th>_source.date_received</th>\n",
       "      <th>_source.state</th>\n",
       "      <th>...</th>\n",
       "      <th>_source.company_response</th>\n",
       "      <th>_source.company</th>\n",
       "      <th>_source.submitted_via</th>\n",
       "      <th>_source.date_sent_to_company</th>\n",
       "      <th>_source.company_public_response</th>\n",
       "      <th>_source.sub_product</th>\n",
       "      <th>_source.timely</th>\n",
       "      <th>_source.complaint_what_happened</th>\n",
       "      <th>_source.sub_issue</th>\n",
       "      <th>_source.consumer_consent_provided</th>\n",
       "    </tr>\n",
       "  </thead>\n",
       "  <tbody>\n",
       "    <tr>\n",
       "      <th>0</th>\n",
       "      <td>complaint-public-v2</td>\n",
       "      <td>complaint</td>\n",
       "      <td>3211475</td>\n",
       "      <td>0.0</td>\n",
       "      <td>None</td>\n",
       "      <td>90301</td>\n",
       "      <td>3211475</td>\n",
       "      <td>Attempts to collect debt not owed</td>\n",
       "      <td>2019-04-13T12:00:00-05:00</td>\n",
       "      <td>CA</td>\n",
       "      <td>...</td>\n",
       "      <td>Closed with explanation</td>\n",
       "      <td>JPMORGAN CHASE &amp; CO.</td>\n",
       "      <td>Web</td>\n",
       "      <td>2019-04-13T12:00:00-05:00</td>\n",
       "      <td>None</td>\n",
       "      <td>Credit card debt</td>\n",
       "      <td>Yes</td>\n",
       "      <td></td>\n",
       "      <td>Debt is not yours</td>\n",
       "      <td>Consent not provided</td>\n",
       "    </tr>\n",
       "    <tr>\n",
       "      <th>1</th>\n",
       "      <td>complaint-public-v2</td>\n",
       "      <td>complaint</td>\n",
       "      <td>3229299</td>\n",
       "      <td>0.0</td>\n",
       "      <td>Servicemember</td>\n",
       "      <td>319XX</td>\n",
       "      <td>3229299</td>\n",
       "      <td>Written notification about debt</td>\n",
       "      <td>2019-05-01T12:00:00-05:00</td>\n",
       "      <td>GA</td>\n",
       "      <td>...</td>\n",
       "      <td>Closed with explanation</td>\n",
       "      <td>JPMORGAN CHASE &amp; CO.</td>\n",
       "      <td>Web</td>\n",
       "      <td>2019-05-01T12:00:00-05:00</td>\n",
       "      <td>None</td>\n",
       "      <td>Credit card debt</td>\n",
       "      <td>Yes</td>\n",
       "      <td>Good morning my name is XXXX XXXX and I apprec...</td>\n",
       "      <td>Didn't receive enough information to verify debt</td>\n",
       "      <td>Consent provided</td>\n",
       "    </tr>\n",
       "    <tr>\n",
       "      <th>2</th>\n",
       "      <td>complaint-public-v2</td>\n",
       "      <td>complaint</td>\n",
       "      <td>3199379</td>\n",
       "      <td>0.0</td>\n",
       "      <td>None</td>\n",
       "      <td>77069</td>\n",
       "      <td>3199379</td>\n",
       "      <td>Other features, terms, or problems</td>\n",
       "      <td>2019-04-02T12:00:00-05:00</td>\n",
       "      <td>TX</td>\n",
       "      <td>...</td>\n",
       "      <td>Closed with explanation</td>\n",
       "      <td>JPMORGAN CHASE &amp; CO.</td>\n",
       "      <td>Web</td>\n",
       "      <td>2019-04-02T12:00:00-05:00</td>\n",
       "      <td>None</td>\n",
       "      <td>General-purpose credit card or charge card</td>\n",
       "      <td>Yes</td>\n",
       "      <td>I upgraded my XXXX XXXX card in XX/XX/2018 and...</td>\n",
       "      <td>Problem with rewards from credit card</td>\n",
       "      <td>Consent provided</td>\n",
       "    </tr>\n",
       "    <tr>\n",
       "      <th>3</th>\n",
       "      <td>complaint-public-v2</td>\n",
       "      <td>complaint</td>\n",
       "      <td>2673060</td>\n",
       "      <td>0.0</td>\n",
       "      <td>None</td>\n",
       "      <td>48066</td>\n",
       "      <td>2673060</td>\n",
       "      <td>Trouble during payment process</td>\n",
       "      <td>2017-09-13T12:00:00-05:00</td>\n",
       "      <td>MI</td>\n",
       "      <td>...</td>\n",
       "      <td>Closed with explanation</td>\n",
       "      <td>JPMORGAN CHASE &amp; CO.</td>\n",
       "      <td>Web</td>\n",
       "      <td>2017-09-14T12:00:00-05:00</td>\n",
       "      <td>None</td>\n",
       "      <td>Conventional home mortgage</td>\n",
       "      <td>Yes</td>\n",
       "      <td></td>\n",
       "      <td>None</td>\n",
       "      <td>Consent not provided</td>\n",
       "    </tr>\n",
       "    <tr>\n",
       "      <th>4</th>\n",
       "      <td>complaint-public-v2</td>\n",
       "      <td>complaint</td>\n",
       "      <td>3203545</td>\n",
       "      <td>0.0</td>\n",
       "      <td>None</td>\n",
       "      <td>10473</td>\n",
       "      <td>3203545</td>\n",
       "      <td>Fees or interest</td>\n",
       "      <td>2019-04-05T12:00:00-05:00</td>\n",
       "      <td>NY</td>\n",
       "      <td>...</td>\n",
       "      <td>Closed with explanation</td>\n",
       "      <td>JPMORGAN CHASE &amp; CO.</td>\n",
       "      <td>Referral</td>\n",
       "      <td>2019-04-05T12:00:00-05:00</td>\n",
       "      <td>None</td>\n",
       "      <td>General-purpose credit card or charge card</td>\n",
       "      <td>Yes</td>\n",
       "      <td></td>\n",
       "      <td>Charged too much interest</td>\n",
       "      <td>N/A</td>\n",
       "    </tr>\n",
       "  </tbody>\n",
       "</table>\n",
       "<p>5 rows × 22 columns</p>\n",
       "</div>"
      ],
      "text/plain": [
       "                _index      _type      _id  _score   _source.tags  \\\n",
       "0  complaint-public-v2  complaint  3211475     0.0           None   \n",
       "1  complaint-public-v2  complaint  3229299     0.0  Servicemember   \n",
       "2  complaint-public-v2  complaint  3199379     0.0           None   \n",
       "3  complaint-public-v2  complaint  2673060     0.0           None   \n",
       "4  complaint-public-v2  complaint  3203545     0.0           None   \n",
       "\n",
       "  _source.zip_code _source.complaint_id                       _source.issue  \\\n",
       "0            90301              3211475   Attempts to collect debt not owed   \n",
       "1            319XX              3229299     Written notification about debt   \n",
       "2            77069              3199379  Other features, terms, or problems   \n",
       "3            48066              2673060      Trouble during payment process   \n",
       "4            10473              3203545                    Fees or interest   \n",
       "\n",
       "       _source.date_received _source.state  ... _source.company_response  \\\n",
       "0  2019-04-13T12:00:00-05:00            CA  ...  Closed with explanation   \n",
       "1  2019-05-01T12:00:00-05:00            GA  ...  Closed with explanation   \n",
       "2  2019-04-02T12:00:00-05:00            TX  ...  Closed with explanation   \n",
       "3  2017-09-13T12:00:00-05:00            MI  ...  Closed with explanation   \n",
       "4  2019-04-05T12:00:00-05:00            NY  ...  Closed with explanation   \n",
       "\n",
       "        _source.company _source.submitted_via _source.date_sent_to_company  \\\n",
       "0  JPMORGAN CHASE & CO.                   Web    2019-04-13T12:00:00-05:00   \n",
       "1  JPMORGAN CHASE & CO.                   Web    2019-05-01T12:00:00-05:00   \n",
       "2  JPMORGAN CHASE & CO.                   Web    2019-04-02T12:00:00-05:00   \n",
       "3  JPMORGAN CHASE & CO.                   Web    2017-09-14T12:00:00-05:00   \n",
       "4  JPMORGAN CHASE & CO.              Referral    2019-04-05T12:00:00-05:00   \n",
       "\n",
       "  _source.company_public_response                         _source.sub_product  \\\n",
       "0                            None                            Credit card debt   \n",
       "1                            None                            Credit card debt   \n",
       "2                            None  General-purpose credit card or charge card   \n",
       "3                            None                  Conventional home mortgage   \n",
       "4                            None  General-purpose credit card or charge card   \n",
       "\n",
       "  _source.timely                    _source.complaint_what_happened  \\\n",
       "0            Yes                                                      \n",
       "1            Yes  Good morning my name is XXXX XXXX and I apprec...   \n",
       "2            Yes  I upgraded my XXXX XXXX card in XX/XX/2018 and...   \n",
       "3            Yes                                                      \n",
       "4            Yes                                                      \n",
       "\n",
       "                                  _source.sub_issue  \\\n",
       "0                                 Debt is not yours   \n",
       "1  Didn't receive enough information to verify debt   \n",
       "2             Problem with rewards from credit card   \n",
       "3                                              None   \n",
       "4                         Charged too much interest   \n",
       "\n",
       "  _source.consumer_consent_provided  \n",
       "0              Consent not provided  \n",
       "1                  Consent provided  \n",
       "2                  Consent provided  \n",
       "3              Consent not provided  \n",
       "4                               N/A  \n",
       "\n",
       "[5 rows x 22 columns]"
      ]
     },
     "execution_count": 9,
     "metadata": {},
     "output_type": "execute_result"
    }
   ],
   "source": [
    "# Inspect the dataframe to understand the given data.\n",
    "print('Dataset Shape: ',df.shape)\n",
    "df.head()"
   ]
  },
  {
   "cell_type": "code",
   "execution_count": 10,
   "metadata": {
    "id": "Dwcty-wmJrFw"
   },
   "outputs": [
    {
     "name": "stdout",
     "output_type": "stream",
     "text": [
      "Index(['_index', '_type', '_id', '_score', '_source.tags', '_source.zip_code',\n",
      "       '_source.complaint_id', '_source.issue', '_source.date_received',\n",
      "       '_source.state', '_source.consumer_disputed', '_source.product',\n",
      "       '_source.company_response', '_source.company', '_source.submitted_via',\n",
      "       '_source.date_sent_to_company', '_source.company_public_response',\n",
      "       '_source.sub_product', '_source.timely',\n",
      "       '_source.complaint_what_happened', '_source.sub_issue',\n",
      "       '_source.consumer_consent_provided'],\n",
      "      dtype='object')\n"
     ]
    }
   ],
   "source": [
    "#print the column names\n",
    "print(df.columns)"
   ]
  },
  {
   "cell_type": "code",
   "execution_count": 11,
   "metadata": {},
   "outputs": [
    {
     "data": {
      "text/plain": [
       "(57241, 22)"
      ]
     },
     "execution_count": 11,
     "metadata": {},
     "output_type": "execute_result"
    }
   ],
   "source": [
    "# chekcing number of rows with blank complaints\n",
    "df[df['_source.complaint_what_happened'].str.strip() == ''].shape"
   ]
  },
  {
   "cell_type": "code",
   "execution_count": 12,
   "metadata": {
    "id": "grQUPFL5JrFx"
   },
   "outputs": [],
   "source": [
    "#Assign nan in place of blanks in the complaints column\n",
    "df.loc[df['_source.complaint_what_happened'].str.strip() == '', '_source.complaint_what_happened'] = np.nan"
   ]
  },
  {
   "cell_type": "code",
   "execution_count": 13,
   "metadata": {
    "id": "Jfxd8VSmJrFy"
   },
   "outputs": [
    {
     "data": {
      "text/plain": [
       "(21072, 22)"
      ]
     },
     "execution_count": 13,
     "metadata": {},
     "output_type": "execute_result"
    }
   ],
   "source": [
    "#Remove all rows where complaints column is nan\n",
    "df = df.dropna(subset=['_source.complaint_what_happened'])\n",
    "df.shape"
   ]
  },
  {
   "cell_type": "markdown",
   "metadata": {
    "id": "L944HZpsJrFy"
   },
   "source": [
    "## Prepare the text for topic modeling\n",
    "\n",
    "Once you have removed all the blank complaints, you need to:\n",
    "\n",
    "* Make the text lowercase\n",
    "* Remove text in square brackets\n",
    "* Remove punctuation\n",
    "* Remove words containing numbers\n",
    "\n",
    "\n",
    "Once you have done these cleaning operations you need to perform the following:\n",
    "* Lemmatize the texts\n",
    "* Extract the POS tags of the lemmatized text and remove all the words which have tags other than NN[tag == \"NN\"].\n"
   ]
  },
  {
   "cell_type": "code",
   "execution_count": 15,
   "metadata": {},
   "outputs": [
    {
     "data": {
      "text/html": [
       "<div>\n",
       "<style scoped>\n",
       "    .dataframe tbody tr th:only-of-type {\n",
       "        vertical-align: middle;\n",
       "    }\n",
       "\n",
       "    .dataframe tbody tr th {\n",
       "        vertical-align: top;\n",
       "    }\n",
       "\n",
       "    .dataframe thead th {\n",
       "        text-align: right;\n",
       "    }\n",
       "</style>\n",
       "<table border=\"1\" class=\"dataframe\">\n",
       "  <thead>\n",
       "    <tr style=\"text-align: right;\">\n",
       "      <th></th>\n",
       "      <th>_index</th>\n",
       "      <th>_type</th>\n",
       "      <th>_id</th>\n",
       "      <th>_score</th>\n",
       "      <th>_source.tags</th>\n",
       "      <th>_source.zip_code</th>\n",
       "      <th>_source.complaint_id</th>\n",
       "      <th>_source.issue</th>\n",
       "      <th>_source.date_received</th>\n",
       "      <th>_source.state</th>\n",
       "      <th>...</th>\n",
       "      <th>_source.company_response</th>\n",
       "      <th>_source.company</th>\n",
       "      <th>_source.submitted_via</th>\n",
       "      <th>_source.date_sent_to_company</th>\n",
       "      <th>_source.company_public_response</th>\n",
       "      <th>_source.sub_product</th>\n",
       "      <th>_source.timely</th>\n",
       "      <th>_source.complaint_what_happened</th>\n",
       "      <th>_source.sub_issue</th>\n",
       "      <th>_source.consumer_consent_provided</th>\n",
       "    </tr>\n",
       "  </thead>\n",
       "  <tbody>\n",
       "    <tr>\n",
       "      <th>1</th>\n",
       "      <td>complaint-public-v2</td>\n",
       "      <td>complaint</td>\n",
       "      <td>3229299</td>\n",
       "      <td>0.0</td>\n",
       "      <td>Servicemember</td>\n",
       "      <td>319XX</td>\n",
       "      <td>3229299</td>\n",
       "      <td>Written notification about debt</td>\n",
       "      <td>2019-05-01T12:00:00-05:00</td>\n",
       "      <td>GA</td>\n",
       "      <td>...</td>\n",
       "      <td>Closed with explanation</td>\n",
       "      <td>JPMORGAN CHASE &amp; CO.</td>\n",
       "      <td>Web</td>\n",
       "      <td>2019-05-01T12:00:00-05:00</td>\n",
       "      <td>None</td>\n",
       "      <td>Credit card debt</td>\n",
       "      <td>Yes</td>\n",
       "      <td>good morning my name is xxxx xxxx and i apprec...</td>\n",
       "      <td>Didn't receive enough information to verify debt</td>\n",
       "      <td>Consent provided</td>\n",
       "    </tr>\n",
       "    <tr>\n",
       "      <th>2</th>\n",
       "      <td>complaint-public-v2</td>\n",
       "      <td>complaint</td>\n",
       "      <td>3199379</td>\n",
       "      <td>0.0</td>\n",
       "      <td>None</td>\n",
       "      <td>77069</td>\n",
       "      <td>3199379</td>\n",
       "      <td>Other features, terms, or problems</td>\n",
       "      <td>2019-04-02T12:00:00-05:00</td>\n",
       "      <td>TX</td>\n",
       "      <td>...</td>\n",
       "      <td>Closed with explanation</td>\n",
       "      <td>JPMORGAN CHASE &amp; CO.</td>\n",
       "      <td>Web</td>\n",
       "      <td>2019-04-02T12:00:00-05:00</td>\n",
       "      <td>None</td>\n",
       "      <td>General-purpose credit card or charge card</td>\n",
       "      <td>Yes</td>\n",
       "      <td>i upgraded my xxxx xxxx card in  and was told ...</td>\n",
       "      <td>Problem with rewards from credit card</td>\n",
       "      <td>Consent provided</td>\n",
       "    </tr>\n",
       "    <tr>\n",
       "      <th>10</th>\n",
       "      <td>complaint-public-v2</td>\n",
       "      <td>complaint</td>\n",
       "      <td>3233499</td>\n",
       "      <td>0.0</td>\n",
       "      <td>None</td>\n",
       "      <td>104XX</td>\n",
       "      <td>3233499</td>\n",
       "      <td>Incorrect information on your report</td>\n",
       "      <td>2019-05-06T12:00:00-05:00</td>\n",
       "      <td>NY</td>\n",
       "      <td>...</td>\n",
       "      <td>Closed with explanation</td>\n",
       "      <td>JPMORGAN CHASE &amp; CO.</td>\n",
       "      <td>Web</td>\n",
       "      <td>2019-05-06T12:00:00-05:00</td>\n",
       "      <td>None</td>\n",
       "      <td>Other personal consumer report</td>\n",
       "      <td>Yes</td>\n",
       "      <td>chase card was reported on  however fraudulent...</td>\n",
       "      <td>Information belongs to someone else</td>\n",
       "      <td>Consent provided</td>\n",
       "    </tr>\n",
       "    <tr>\n",
       "      <th>11</th>\n",
       "      <td>complaint-public-v2</td>\n",
       "      <td>complaint</td>\n",
       "      <td>3180294</td>\n",
       "      <td>0.0</td>\n",
       "      <td>None</td>\n",
       "      <td>750XX</td>\n",
       "      <td>3180294</td>\n",
       "      <td>Incorrect information on your report</td>\n",
       "      <td>2019-03-14T12:00:00-05:00</td>\n",
       "      <td>TX</td>\n",
       "      <td>...</td>\n",
       "      <td>Closed with explanation</td>\n",
       "      <td>JPMORGAN CHASE &amp; CO.</td>\n",
       "      <td>Web</td>\n",
       "      <td>2019-03-15T12:00:00-05:00</td>\n",
       "      <td>None</td>\n",
       "      <td>Credit reporting</td>\n",
       "      <td>Yes</td>\n",
       "      <td>on  while trying to book a xxxx  xxxx  ticket ...</td>\n",
       "      <td>Information belongs to someone else</td>\n",
       "      <td>Consent provided</td>\n",
       "    </tr>\n",
       "    <tr>\n",
       "      <th>14</th>\n",
       "      <td>complaint-public-v2</td>\n",
       "      <td>complaint</td>\n",
       "      <td>3224980</td>\n",
       "      <td>0.0</td>\n",
       "      <td>None</td>\n",
       "      <td>920XX</td>\n",
       "      <td>3224980</td>\n",
       "      <td>Managing an account</td>\n",
       "      <td>2019-04-27T12:00:00-05:00</td>\n",
       "      <td>CA</td>\n",
       "      <td>...</td>\n",
       "      <td>Closed with explanation</td>\n",
       "      <td>JPMORGAN CHASE &amp; CO.</td>\n",
       "      <td>Web</td>\n",
       "      <td>2019-04-27T12:00:00-05:00</td>\n",
       "      <td>None</td>\n",
       "      <td>Checking account</td>\n",
       "      <td>Yes</td>\n",
       "      <td>my grand son give me check for  i deposit it i...</td>\n",
       "      <td>Funds not handled or disbursed as instructed</td>\n",
       "      <td>Consent provided</td>\n",
       "    </tr>\n",
       "  </tbody>\n",
       "</table>\n",
       "<p>5 rows × 22 columns</p>\n",
       "</div>"
      ],
      "text/plain": [
       "                 _index      _type      _id  _score   _source.tags  \\\n",
       "1   complaint-public-v2  complaint  3229299     0.0  Servicemember   \n",
       "2   complaint-public-v2  complaint  3199379     0.0           None   \n",
       "10  complaint-public-v2  complaint  3233499     0.0           None   \n",
       "11  complaint-public-v2  complaint  3180294     0.0           None   \n",
       "14  complaint-public-v2  complaint  3224980     0.0           None   \n",
       "\n",
       "   _source.zip_code _source.complaint_id  \\\n",
       "1             319XX              3229299   \n",
       "2             77069              3199379   \n",
       "10            104XX              3233499   \n",
       "11            750XX              3180294   \n",
       "14            920XX              3224980   \n",
       "\n",
       "                           _source.issue      _source.date_received  \\\n",
       "1        Written notification about debt  2019-05-01T12:00:00-05:00   \n",
       "2     Other features, terms, or problems  2019-04-02T12:00:00-05:00   \n",
       "10  Incorrect information on your report  2019-05-06T12:00:00-05:00   \n",
       "11  Incorrect information on your report  2019-03-14T12:00:00-05:00   \n",
       "14                   Managing an account  2019-04-27T12:00:00-05:00   \n",
       "\n",
       "   _source.state  ... _source.company_response       _source.company  \\\n",
       "1             GA  ...  Closed with explanation  JPMORGAN CHASE & CO.   \n",
       "2             TX  ...  Closed with explanation  JPMORGAN CHASE & CO.   \n",
       "10            NY  ...  Closed with explanation  JPMORGAN CHASE & CO.   \n",
       "11            TX  ...  Closed with explanation  JPMORGAN CHASE & CO.   \n",
       "14            CA  ...  Closed with explanation  JPMORGAN CHASE & CO.   \n",
       "\n",
       "   _source.submitted_via _source.date_sent_to_company  \\\n",
       "1                    Web    2019-05-01T12:00:00-05:00   \n",
       "2                    Web    2019-04-02T12:00:00-05:00   \n",
       "10                   Web    2019-05-06T12:00:00-05:00   \n",
       "11                   Web    2019-03-15T12:00:00-05:00   \n",
       "14                   Web    2019-04-27T12:00:00-05:00   \n",
       "\n",
       "   _source.company_public_response  \\\n",
       "1                             None   \n",
       "2                             None   \n",
       "10                            None   \n",
       "11                            None   \n",
       "14                            None   \n",
       "\n",
       "                           _source.sub_product _source.timely  \\\n",
       "1                             Credit card debt            Yes   \n",
       "2   General-purpose credit card or charge card            Yes   \n",
       "10              Other personal consumer report            Yes   \n",
       "11                            Credit reporting            Yes   \n",
       "14                            Checking account            Yes   \n",
       "\n",
       "                      _source.complaint_what_happened  \\\n",
       "1   good morning my name is xxxx xxxx and i apprec...   \n",
       "2   i upgraded my xxxx xxxx card in  and was told ...   \n",
       "10  chase card was reported on  however fraudulent...   \n",
       "11  on  while trying to book a xxxx  xxxx  ticket ...   \n",
       "14  my grand son give me check for  i deposit it i...   \n",
       "\n",
       "                                   _source.sub_issue  \\\n",
       "1   Didn't receive enough information to verify debt   \n",
       "2              Problem with rewards from credit card   \n",
       "10               Information belongs to someone else   \n",
       "11               Information belongs to someone else   \n",
       "14      Funds not handled or disbursed as instructed   \n",
       "\n",
       "   _source.consumer_consent_provided  \n",
       "1                   Consent provided  \n",
       "2                   Consent provided  \n",
       "10                  Consent provided  \n",
       "11                  Consent provided  \n",
       "14                  Consent provided  \n",
       "\n",
       "[5 rows x 22 columns]"
      ]
     },
     "execution_count": 15,
     "metadata": {},
     "output_type": "execute_result"
    }
   ],
   "source": [
    "# Write your function here to clean the text and remove all the unnecessary elements.\n",
    "# Function to complaints\n",
    "def clean_complaint(complaint):\n",
    "    # Convert to lowercase\n",
    "    complaint = complaint.lower()\n",
    "    # Remove text in square brackets\n",
    "    complaint = re.sub(r'\\[.*?\\]', '', complaint)\n",
    "    # Remove punctuation\n",
    "    complaint = re.sub(r'[^\\w\\s]', '', complaint)\n",
    "    # Remove words containing numbers\n",
    "    complaint = re.sub(r'\\b\\w*\\d\\w*\\b', '', complaint)\n",
    "    return complaint\n",
    "\n",
    "df['_source.complaint_what_happened'] = df['_source.complaint_what_happened'].apply(clean_complaint)\n",
    "df.head()"
   ]
  },
  {
   "cell_type": "code",
   "execution_count": 16,
   "metadata": {},
   "outputs": [
    {
     "data": {
      "text/html": [
       "<div>\n",
       "<style scoped>\n",
       "    .dataframe tbody tr th:only-of-type {\n",
       "        vertical-align: middle;\n",
       "    }\n",
       "\n",
       "    .dataframe tbody tr th {\n",
       "        vertical-align: top;\n",
       "    }\n",
       "\n",
       "    .dataframe thead th {\n",
       "        text-align: right;\n",
       "    }\n",
       "</style>\n",
       "<table border=\"1\" class=\"dataframe\">\n",
       "  <thead>\n",
       "    <tr style=\"text-align: right;\">\n",
       "      <th></th>\n",
       "      <th>complaint_what_happened</th>\n",
       "    </tr>\n",
       "  </thead>\n",
       "  <tbody>\n",
       "    <tr>\n",
       "      <th>1</th>\n",
       "      <td>good morning my name is xxxx xxxx and i apprec...</td>\n",
       "    </tr>\n",
       "    <tr>\n",
       "      <th>2</th>\n",
       "      <td>i upgraded my xxxx xxxx card in  and was told ...</td>\n",
       "    </tr>\n",
       "    <tr>\n",
       "      <th>10</th>\n",
       "      <td>chase card was reported on  however fraudulent...</td>\n",
       "    </tr>\n",
       "    <tr>\n",
       "      <th>11</th>\n",
       "      <td>on  while trying to book a xxxx  xxxx  ticket ...</td>\n",
       "    </tr>\n",
       "    <tr>\n",
       "      <th>14</th>\n",
       "      <td>my grand son give me check for  i deposit it i...</td>\n",
       "    </tr>\n",
       "  </tbody>\n",
       "</table>\n",
       "</div>"
      ],
      "text/plain": [
       "                              complaint_what_happened\n",
       "1   good morning my name is xxxx xxxx and i apprec...\n",
       "2   i upgraded my xxxx xxxx card in  and was told ...\n",
       "10  chase card was reported on  however fraudulent...\n",
       "11  on  while trying to book a xxxx  xxxx  ticket ...\n",
       "14  my grand son give me check for  i deposit it i..."
      ]
     },
     "execution_count": 16,
     "metadata": {},
     "output_type": "execute_result"
    }
   ],
   "source": [
    "#Create a dataframe('df_clean') that will have only the complaints and the lemmatized complaints\n",
    "df_clean = df[['_source.complaint_what_happened']]\n",
    "df_clean.columns = ['complaint_what_happened']\n",
    "df_clean.head()"
   ]
  },
  {
   "cell_type": "code",
   "execution_count": 17,
   "metadata": {},
   "outputs": [
    {
     "name": "stderr",
     "output_type": "stream",
     "text": [
      "[nltk_data] Downloading package wordnet to\n",
      "[nltk_data]     C:\\Users\\anshu\\AppData\\Roaming\\nltk_data...\n",
      "[nltk_data]   Package wordnet is already up-to-date!\n"
     ]
    },
    {
     "data": {
      "text/plain": [
       "True"
      ]
     },
     "execution_count": 17,
     "metadata": {},
     "output_type": "execute_result"
    }
   ],
   "source": [
    "# downloading wordnet\n",
    "nltk.download('wordnet')"
   ]
  },
  {
   "cell_type": "code",
   "execution_count": 18,
   "metadata": {
    "id": "zgOu8t8HJrFz"
   },
   "outputs": [
    {
     "name": "stderr",
     "output_type": "stream",
     "text": [
      "C:\\Users\\anshu\\AppData\\Local\\Temp\\ipykernel_53788\\2971326791.py:14: SettingWithCopyWarning:\n",
      "\n",
      "\n",
      "A value is trying to be set on a copy of a slice from a DataFrame.\n",
      "Try using .loc[row_indexer,col_indexer] = value instead\n",
      "\n",
      "See the caveats in the documentation: https://pandas.pydata.org/pandas-docs/stable/user_guide/indexing.html#returning-a-view-versus-a-copy\n",
      "\n"
     ]
    }
   ],
   "source": [
    "#Write your function to Lemmatize the texts\n",
    "lemmatizer = WordNetLemmatizer()\n",
    "\n",
    "# Function to lemmatize text\n",
    "def lemmatize_text(text):\n",
    "    # Tokenize the text into words\n",
    "    words = text.split()\n",
    "    # Lemmatize each word\n",
    "    lemmatized_words = [lemmatizer.lemmatize(word) for word in words]\n",
    "    # Join the lemmatized words back into a single string\n",
    "    return ' '.join(lemmatized_words)\n",
    "\n",
    "# Apply the function to the 'complaints' column\n",
    "df_clean['lematized_complaints'] = df_clean['complaint_what_happened'].apply(lemmatize_text)"
   ]
  },
  {
   "cell_type": "code",
   "execution_count": 19,
   "metadata": {
    "id": "nOiDVvEIJrF0"
   },
   "outputs": [
    {
     "data": {
      "text/html": [
       "<div>\n",
       "<style scoped>\n",
       "    .dataframe tbody tr th:only-of-type {\n",
       "        vertical-align: middle;\n",
       "    }\n",
       "\n",
       "    .dataframe tbody tr th {\n",
       "        vertical-align: top;\n",
       "    }\n",
       "\n",
       "    .dataframe thead th {\n",
       "        text-align: right;\n",
       "    }\n",
       "</style>\n",
       "<table border=\"1\" class=\"dataframe\">\n",
       "  <thead>\n",
       "    <tr style=\"text-align: right;\">\n",
       "      <th></th>\n",
       "      <th>complaint_what_happened</th>\n",
       "      <th>lematized_complaints</th>\n",
       "    </tr>\n",
       "  </thead>\n",
       "  <tbody>\n",
       "    <tr>\n",
       "      <th>1</th>\n",
       "      <td>good morning my name is xxxx xxxx and i apprec...</td>\n",
       "      <td>good morning my name is xxxx xxxx and i apprec...</td>\n",
       "    </tr>\n",
       "    <tr>\n",
       "      <th>2</th>\n",
       "      <td>i upgraded my xxxx xxxx card in  and was told ...</td>\n",
       "      <td>i upgraded my xxxx xxxx card in and wa told by...</td>\n",
       "    </tr>\n",
       "    <tr>\n",
       "      <th>10</th>\n",
       "      <td>chase card was reported on  however fraudulent...</td>\n",
       "      <td>chase card wa reported on however fraudulent a...</td>\n",
       "    </tr>\n",
       "    <tr>\n",
       "      <th>11</th>\n",
       "      <td>on  while trying to book a xxxx  xxxx  ticket ...</td>\n",
       "      <td>on while trying to book a xxxx xxxx ticket i c...</td>\n",
       "    </tr>\n",
       "    <tr>\n",
       "      <th>14</th>\n",
       "      <td>my grand son give me check for  i deposit it i...</td>\n",
       "      <td>my grand son give me check for i deposit it in...</td>\n",
       "    </tr>\n",
       "  </tbody>\n",
       "</table>\n",
       "</div>"
      ],
      "text/plain": [
       "                              complaint_what_happened  \\\n",
       "1   good morning my name is xxxx xxxx and i apprec...   \n",
       "2   i upgraded my xxxx xxxx card in  and was told ...   \n",
       "10  chase card was reported on  however fraudulent...   \n",
       "11  on  while trying to book a xxxx  xxxx  ticket ...   \n",
       "14  my grand son give me check for  i deposit it i...   \n",
       "\n",
       "                                 lematized_complaints  \n",
       "1   good morning my name is xxxx xxxx and i apprec...  \n",
       "2   i upgraded my xxxx xxxx card in and wa told by...  \n",
       "10  chase card wa reported on however fraudulent a...  \n",
       "11  on while trying to book a xxxx xxxx ticket i c...  \n",
       "14  my grand son give me check for i deposit it in...  "
      ]
     },
     "execution_count": 19,
     "metadata": {},
     "output_type": "execute_result"
    }
   ],
   "source": [
    "df_clean.head()"
   ]
  },
  {
   "cell_type": "code",
   "execution_count": 20,
   "metadata": {},
   "outputs": [
    {
     "name": "stderr",
     "output_type": "stream",
     "text": [
      "[nltk_data] Downloading package punkt to\n",
      "[nltk_data]     C:\\Users\\anshu\\AppData\\Roaming\\nltk_data...\n",
      "[nltk_data]   Package punkt is already up-to-date!\n",
      "[nltk_data] Downloading package averaged_perceptron_tagger to\n",
      "[nltk_data]     C:\\Users\\anshu\\AppData\\Roaming\\nltk_data...\n",
      "[nltk_data]   Package averaged_perceptron_tagger is already up-to-\n",
      "[nltk_data]       date!\n"
     ]
    },
    {
     "data": {
      "text/plain": [
       "True"
      ]
     },
     "execution_count": 20,
     "metadata": {},
     "output_type": "execute_result"
    }
   ],
   "source": [
    "nltk.download('punkt')\n",
    "nltk.download('averaged_perceptron_tagger')"
   ]
  },
  {
   "cell_type": "code",
   "execution_count": 21,
   "metadata": {
    "id": "Kk7fc4DuJrF1"
   },
   "outputs": [
    {
     "name": "stderr",
     "output_type": "stream",
     "text": [
      "C:\\Users\\anshu\\AppData\\Local\\Temp\\ipykernel_53788\\2285388562.py:12: SettingWithCopyWarning:\n",
      "\n",
      "\n",
      "A value is trying to be set on a copy of a slice from a DataFrame.\n",
      "Try using .loc[row_indexer,col_indexer] = value instead\n",
      "\n",
      "See the caveats in the documentation: https://pandas.pydata.org/pandas-docs/stable/user_guide/indexing.html#returning-a-view-versus-a-copy\n",
      "\n"
     ]
    }
   ],
   "source": [
    "#Write your function to extract the POS tags\n",
    "from nltk import word_tokenize, pos_tag\n",
    "\n",
    "def get_nouns(text):\n",
    "    tokens = word_tokenize(text)  # Tokenize the text\n",
    "    tagged_tokens = pos_tag(tokens)  # Get POS tags\n",
    "    \n",
    "    # Filter words with POS tag 'NN' (Singular Nouns)\n",
    "    nouns = [word for word, pos in tagged_tokens if pos == 'NN']\n",
    "    return ' '.join(nouns)\n",
    "\n",
    "df_clean[\"complaint_POS_removed\"] =  df_clean['lematized_complaints'].apply(get_nouns) #this column should contain lemmatized text with all the words removed which have tags other than NN[tag == \"NN\"].\n"
   ]
  },
  {
   "cell_type": "code",
   "execution_count": 22,
   "metadata": {
    "id": "AjxfchvFJrF2"
   },
   "outputs": [
    {
     "data": {
      "text/html": [
       "<div>\n",
       "<style scoped>\n",
       "    .dataframe tbody tr th:only-of-type {\n",
       "        vertical-align: middle;\n",
       "    }\n",
       "\n",
       "    .dataframe tbody tr th {\n",
       "        vertical-align: top;\n",
       "    }\n",
       "\n",
       "    .dataframe thead th {\n",
       "        text-align: right;\n",
       "    }\n",
       "</style>\n",
       "<table border=\"1\" class=\"dataframe\">\n",
       "  <thead>\n",
       "    <tr style=\"text-align: right;\">\n",
       "      <th></th>\n",
       "      <th>complaint_what_happened</th>\n",
       "      <th>lematized_complaints</th>\n",
       "      <th>complaint_POS_removed</th>\n",
       "    </tr>\n",
       "  </thead>\n",
       "  <tbody>\n",
       "    <tr>\n",
       "      <th>1</th>\n",
       "      <td>good morning my name is xxxx xxxx and i apprec...</td>\n",
       "      <td>good morning my name is xxxx xxxx and i apprec...</td>\n",
       "      <td>morning name stop bank cardmember service debt...</td>\n",
       "    </tr>\n",
       "    <tr>\n",
       "      <th>2</th>\n",
       "      <td>i upgraded my xxxx xxxx card in  and was told ...</td>\n",
       "      <td>i upgraded my xxxx xxxx card in and wa told by...</td>\n",
       "      <td>i card agent upgrade date agent wa information...</td>\n",
       "    </tr>\n",
       "    <tr>\n",
       "      <th>10</th>\n",
       "      <td>chase card was reported on  however fraudulent...</td>\n",
       "      <td>chase card wa reported on however fraudulent a...</td>\n",
       "      <td>card wa application identity consent service c...</td>\n",
       "    </tr>\n",
       "    <tr>\n",
       "      <th>11</th>\n",
       "      <td>on  while trying to book a xxxx  xxxx  ticket ...</td>\n",
       "      <td>on while trying to book a xxxx xxxx ticket i c...</td>\n",
       "      <td>book xxxx ticket i offer ticket card i informa...</td>\n",
       "    </tr>\n",
       "    <tr>\n",
       "      <th>14</th>\n",
       "      <td>my grand son give me check for  i deposit it i...</td>\n",
       "      <td>my grand son give me check for i deposit it in...</td>\n",
       "      <td>son deposit chase account fund chase bank acco...</td>\n",
       "    </tr>\n",
       "  </tbody>\n",
       "</table>\n",
       "</div>"
      ],
      "text/plain": [
       "                              complaint_what_happened  \\\n",
       "1   good morning my name is xxxx xxxx and i apprec...   \n",
       "2   i upgraded my xxxx xxxx card in  and was told ...   \n",
       "10  chase card was reported on  however fraudulent...   \n",
       "11  on  while trying to book a xxxx  xxxx  ticket ...   \n",
       "14  my grand son give me check for  i deposit it i...   \n",
       "\n",
       "                                 lematized_complaints  \\\n",
       "1   good morning my name is xxxx xxxx and i apprec...   \n",
       "2   i upgraded my xxxx xxxx card in and wa told by...   \n",
       "10  chase card wa reported on however fraudulent a...   \n",
       "11  on while trying to book a xxxx xxxx ticket i c...   \n",
       "14  my grand son give me check for i deposit it in...   \n",
       "\n",
       "                                complaint_POS_removed  \n",
       "1   morning name stop bank cardmember service debt...  \n",
       "2   i card agent upgrade date agent wa information...  \n",
       "10  card wa application identity consent service c...  \n",
       "11  book xxxx ticket i offer ticket card i informa...  \n",
       "14  son deposit chase account fund chase bank acco...  "
      ]
     },
     "execution_count": 22,
     "metadata": {},
     "output_type": "execute_result"
    }
   ],
   "source": [
    "#The clean dataframe should now contain the raw complaint, lemmatized complaint and the complaint after removing POS tags.\n",
    "df_clean.head()"
   ]
  },
  {
   "cell_type": "markdown",
   "metadata": {
    "id": "_7Un1AElJrF2"
   },
   "source": [
    "## Exploratory data analysis to get familiar with the data.\n",
    "\n",
    "Write the code in this task to perform the following:\n",
    "\n",
    "*   Visualise the data according to the 'Complaint' character length\n",
    "*   Using a word cloud find the top 40 words by frequency among all the articles after processing the text\n",
    "*   Find the top unigrams,bigrams and trigrams by frequency among all the complaints after processing the text. ‘\n",
    "\n",
    "\n"
   ]
  },
  {
   "cell_type": "code",
   "execution_count": 24,
   "metadata": {
    "id": "q-zaqJF6JrF2"
   },
   "outputs": [
    {
     "name": "stderr",
     "output_type": "stream",
     "text": [
      "C:\\Users\\anshu\\AppData\\Local\\Temp\\ipykernel_53788\\1559096198.py:2: SettingWithCopyWarning:\n",
      "\n",
      "\n",
      "A value is trying to be set on a copy of a slice from a DataFrame.\n",
      "Try using .loc[row_indexer,col_indexer] = value instead\n",
      "\n",
      "See the caveats in the documentation: https://pandas.pydata.org/pandas-docs/stable/user_guide/indexing.html#returning-a-view-versus-a-copy\n",
      "\n",
      "C:\\Users\\anshu\\anaconda3\\Lib\\site-packages\\seaborn\\_oldcore.py:1119: FutureWarning:\n",
      "\n",
      "use_inf_as_na option is deprecated and will be removed in a future version. Convert inf values to NaN before operating instead.\n",
      "\n"
     ]
    },
    {
     "data": {
      "image/png": "[encoded data removed]",
      "text/plain": [
       "<Figure size 800x500 with 1 Axes>"
      ]
     },
     "metadata": {},
     "output_type": "display_data"
    },
    {
     "data": {
      "image/png": "[encoded data removed]",
      "text/plain": [
       "<Figure size 800x500 with 1 Axes>"
      ]
     },
     "metadata": {},
     "output_type": "display_data"
    }
   ],
   "source": [
    "# Write your code here to visualise the data according to the 'Complaint' character length\n",
    "df_clean['complaint_POS_removed_text_length'] = df_clean['complaint_POS_removed'].apply(len)\n",
    "\n",
    "# Visualization 1: Histogram of text lengths\n",
    "plt.figure(figsize=(8, 5))\n",
    "sns.histplot(df_clean['complaint_POS_removed_text_length'], bins=10, kde=True, color='blue')\n",
    "plt.title('Distribution of Complaint Lengths', fontsize=14)\n",
    "plt.xlabel('Complaint Length', fontsize=12)\n",
    "plt.ylabel('Frequency', fontsize=12)\n",
    "plt.grid(axis='y', linestyle='--', alpha=0.7)\n",
    "plt.show()\n",
    "\n",
    "# Visualization 2: Box plot of text lengths\n",
    "plt.figure(figsize=(8, 5))\n",
    "sns.boxplot(x=df_clean['complaint_POS_removed_text_length'], color='orange')\n",
    "plt.title('Box Plot of Complaint Lengths', fontsize=14)\n",
    "plt.xlabel('Complaint Length', fontsize=12)\n",
    "plt.grid(axis='x', linestyle='--', alpha=0.7)\n",
    "plt.show()"
   ]
  },
  {
   "cell_type": "markdown",
   "metadata": {
    "id": "T9jD_6SeJrF3"
   },
   "source": [
    "#### Find the top 40 words by frequency among all the articles after processing the text."
   ]
  },
  {
   "cell_type": "code",
   "execution_count": 26,
   "metadata": {},
   "outputs": [
    {
     "name": "stdout",
     "output_type": "stream",
     "text": [
      "Requirement already satisfied: wordcloud in c:\\users\\anshu\\anaconda3\\lib\\site-packages (1.9.4)\n",
      "Requirement already satisfied: numpy>=1.6.1 in c:\\users\\anshu\\anaconda3\\lib\\site-packages (from wordcloud) (1.26.4)\n",
      "Requirement already satisfied: pillow in c:\\users\\anshu\\anaconda3\\lib\\site-packages (from wordcloud) (10.2.0)\n",
      "Requirement already satisfied: matplotlib in c:\\users\\anshu\\anaconda3\\lib\\site-packages (from wordcloud) (3.8.0)\n",
      "Requirement already satisfied: contourpy>=1.0.1 in c:\\users\\anshu\\anaconda3\\lib\\site-packages (from matplotlib->wordcloud) (1.2.0)\n",
      "Requirement already satisfied: cycler>=0.10 in c:\\users\\anshu\\anaconda3\\lib\\site-packages (from matplotlib->wordcloud) (0.11.0)\n",
      "Requirement already satisfied: fonttools>=4.22.0 in c:\\users\\anshu\\anaconda3\\lib\\site-packages (from matplotlib->wordcloud) (4.25.0)\n",
      "Requirement already satisfied: kiwisolver>=1.0.1 in c:\\users\\anshu\\anaconda3\\lib\\site-packages (from matplotlib->wordcloud) (1.4.4)\n",
      "Requirement already satisfied: packaging>=20.0 in c:\\users\\anshu\\anaconda3\\lib\\site-packages (from matplotlib->wordcloud) (23.1)\n",
      "Requirement already satisfied: pyparsing>=2.3.1 in c:\\users\\anshu\\anaconda3\\lib\\site-packages (from matplotlib->wordcloud) (3.0.9)\n",
      "Requirement already satisfied: python-dateutil>=2.7 in c:\\users\\anshu\\anaconda3\\lib\\site-packages (from matplotlib->wordcloud) (2.8.2)\n",
      "Requirement already satisfied: six>=1.5 in c:\\users\\anshu\\anaconda3\\lib\\site-packages (from python-dateutil>=2.7->matplotlib->wordcloud) (1.16.0)\n"
     ]
    }
   ],
   "source": [
    "!pip install wordcloud"
   ]
  },
  {
   "cell_type": "code",
   "execution_count": 27,
   "metadata": {
    "id": "QcfdvtfZJrF3"
   },
   "outputs": [
    {
     "name": "stdout",
     "output_type": "stream",
     "text": [
      "           Word  Frequency\n",
      "0             i     127478\n",
      "1         chase      51080\n",
      "2       account      47647\n",
      "3          xxxx      38371\n",
      "4        credit      33094\n",
      "5            wa      32998\n",
      "6          card      29587\n",
      "7          bank      28233\n",
      "8       payment      21167\n",
      "9          time      16038\n",
      "10          day      12972\n",
      "11     xxxxxxxx      12571\n",
      "12       charge      12237\n",
      "13        money      11961\n",
      "14         loan      10982\n",
      "15        check      10177\n",
      "16       letter       9669\n",
      "17  information       9654\n",
      "18          fee       8687\n",
      "19  transaction       8650\n",
      "20       number       8604\n",
      "21        month       8463\n",
      "22       amount       8363\n",
      "23         year       8292\n",
      "24     mortgage       8179\n",
      "25           ha       8164\n",
      "26     customer       8163\n",
      "27      balance       7754\n",
      "28      company       7630\n",
      "29      service       7595\n",
      "30        phone       7589\n",
      "31       report       7215\n",
      "32        fraud       7115\n",
      "33        claim       7053\n",
      "34         fund       6980\n",
      "35         call       6926\n",
      "36     business       5593\n",
      "37     interest       5334\n",
      "38    statement       5268\n",
      "39         home       5266\n"
     ]
    }
   ],
   "source": [
    "#Using a word cloud find the top 40 words by frequency among all the articles after processing the text\n",
    "from wordcloud import WordCloud\n",
    "from collections import Counter\n",
    "\n",
    "# Combine all text into a single string\n",
    "text_data = ' '.join(df_clean['complaint_POS_removed'])\n",
    "\n",
    "# Generate a word cloud\n",
    "wordcloud = WordCloud(width=800, height=400, background_color='white', colormap='viridis').generate(text_data)\n",
    "\n",
    "# Calculate word frequencies\n",
    "word_list = text_data.split()\n",
    "word_frequencies = Counter(word_list)\n",
    "top_40_words = word_frequencies.most_common(40)\n",
    "\n",
    "# Create a DataFrame for the top 40 words\n",
    "top_words_df = pd.DataFrame(top_40_words, columns=['Word', 'Frequency'])\n",
    "\n",
    "# Display the top 40 words\n",
    "print(top_words_df)"
   ]
  },
  {
   "cell_type": "code",
   "execution_count": 28,
   "metadata": {
    "id": "OkSmc3UaJrF4"
   },
   "outputs": [
    {
     "name": "stderr",
     "output_type": "stream",
     "text": [
      "C:\\Users\\anshu\\AppData\\Local\\Temp\\ipykernel_53788\\3655474111.py:2: SettingWithCopyWarning:\n",
      "\n",
      "\n",
      "A value is trying to be set on a copy of a slice from a DataFrame.\n",
      "Try using .loc[row_indexer,col_indexer] = value instead\n",
      "\n",
      "See the caveats in the documentation: https://pandas.pydata.org/pandas-docs/stable/user_guide/indexing.html#returning-a-view-versus-a-copy\n",
      "\n"
     ]
    }
   ],
   "source": [
    "#Removing -PRON- from the text corpus\n",
    "df_clean['Complaint_clean'] = df_clean['complaint_POS_removed'].str.replace('-PRON-', '')"
   ]
  },
  {
   "cell_type": "markdown",
   "metadata": {
    "id": "5DfCSbbmJrF4"
   },
   "source": [
    "#### Find the top unigrams,bigrams and trigrams by frequency among all the complaints after processing the text."
   ]
  },
  {
   "cell_type": "code",
   "execution_count": 30,
   "metadata": {
    "id": "5mbk5DS5JrF4"
   },
   "outputs": [
    {
     "name": "stdout",
     "output_type": "stream",
     "text": [
      "           Word  Frequency\n",
      "0             i     127478\n",
      "1         chase      51080\n",
      "2       account      47647\n",
      "3          xxxx      38371\n",
      "4        credit      33094\n",
      "5            wa      32998\n",
      "6          card      29587\n",
      "7          bank      28233\n",
      "8       payment      21167\n",
      "9          time      16038\n",
      "10          day      12972\n",
      "11     xxxxxxxx      12571\n",
      "12       charge      12237\n",
      "13        money      11961\n",
      "14         loan      10982\n",
      "15        check      10177\n",
      "16       letter       9669\n",
      "17  information       9654\n",
      "18          fee       8687\n",
      "19  transaction       8650\n",
      "20       number       8604\n",
      "21        month       8463\n",
      "22       amount       8363\n",
      "23         year       8292\n",
      "24     mortgage       8179\n",
      "25           ha       8164\n",
      "26     customer       8163\n",
      "27      balance       7754\n",
      "28      company       7630\n",
      "29      service       7595\n"
     ]
    }
   ],
   "source": [
    "#Write your code here to find the top 30 unigram frequency among the complaints in the cleaned datafram(df_clean).\n",
    "text_data = ' '.join(df_clean['Complaint_clean'])\n",
    "\n",
    "# Tokenize the text into unigrams (split by whitespace)\n",
    "unigrams = text_data.split()\n",
    "\n",
    "# Calculate word frequencies\n",
    "word_frequencies = Counter(unigrams)\n",
    "\n",
    "# Get the top 30 unigrams by frequency\n",
    "top_30_unigrams = word_frequencies.most_common(30)\n",
    "\n",
    "# Convert to DataFrame for better readability\n",
    "top_unigrams_df = pd.DataFrame(top_30_unigrams, columns=['Word', 'Frequency'])\n",
    "\n",
    "# Display the DataFrame\n",
    "print(top_unigrams_df)"
   ]
  },
  {
   "cell_type": "code",
   "execution_count": 31,
   "metadata": {
    "id": "YX7fedm1JrF8"
   },
   "outputs": [
    {
     "name": "stdout",
     "output_type": "stream",
     "text": [
      "      Word  Frequency\n",
      "0        i     127478\n",
      "1    chase      51080\n",
      "2  account      47647\n",
      "3     xxxx      38371\n",
      "4   credit      33094\n",
      "5       wa      32998\n",
      "6     card      29587\n",
      "7     bank      28233\n",
      "8  payment      21167\n",
      "9     time      16038\n"
     ]
    }
   ],
   "source": [
    "#Print the top 10 words in the unigram frequency\n",
    "print(top_unigrams_df.head(10))"
   ]
  },
  {
   "cell_type": "code",
   "execution_count": 32,
   "metadata": {
    "id": "aV7kD7w8JrF8"
   },
   "outputs": [
    {
     "name": "stdout",
     "output_type": "stream",
     "text": [
      "                 Bigram  Frequency\n",
      "0        (credit, card)      12803\n",
      "1            (i, chase)       7600\n",
      "2                (i, i)       6220\n",
      "3             (xxxx, i)       5836\n",
      "4          (account, i)       5518\n",
      "5         (xxxxxxxx, i)       4903\n",
      "6          (i, account)       4191\n",
      "7      (credit, report)       3871\n",
      "8          (xxxx, xxxx)       3812\n",
      "9           (i, credit)       3603\n",
      "10            (i, bank)       3558\n",
      "11            (card, i)       3521\n",
      "12            (i, xxxx)       3330\n",
      "13         (i, payment)       3091\n",
      "14  (customer, service)       3079\n",
      "15      (chase, credit)       2981\n",
      "16     (chase, account)       2819\n",
      "17              (wa, i)       2807\n",
      "18        (chase, bank)       2780\n",
      "19           (chase, i)       2754\n",
      "20        (account, wa)       2746\n",
      "21      (bank, account)       2704\n",
      "22     (account, chase)       2298\n",
      "23            (i, card)       2252\n",
      "24         (payment, i)       2148\n",
      "25            (time, i)       2136\n",
      "26          (i, letter)       2040\n",
      "27              (i, wa)       1984\n",
      "28   (account, account)       1892\n",
      "29           (i, money)       1729\n"
     ]
    }
   ],
   "source": [
    "#Write your code here to find the top 30 bigram frequency among the complaints in the cleaned datafram(df_clean).\n",
    "\n",
    "from nltk import bigrams\n",
    "\n",
    "def generate_bigrams(sentence):\n",
    "    tokens = word_tokenize(sentence)  # Tokenize the sentence\n",
    "    return list(bigrams(tokens))     # Generate bigrams\n",
    "\n",
    "# Create a list of all bigrams across the DataFrame\n",
    "all_bigrams = []\n",
    "for sentence in df_clean['Complaint_clean']:\n",
    "    all_bigrams.extend(generate_bigrams(sentence))\n",
    "\n",
    "# Count bigram frequencies\n",
    "bigram_frequencies = Counter(all_bigrams)\n",
    "\n",
    "# Get the top 30 most frequent bigrams\n",
    "top_30_bigrams = bigram_frequencies.most_common(30)\n",
    "\n",
    "# Convert to DataFrame for better readability\n",
    "top_bigrams_df = pd.DataFrame(top_30_bigrams, columns=['Bigram', 'Frequency'])\n",
    "\n",
    "# Display the top 30 bigrams frequencies\n",
    "print(top_bigrams_df)"
   ]
  },
  {
   "cell_type": "code",
   "execution_count": 33,
   "metadata": {
    "id": "NPnMNIpyJrF9"
   },
   "outputs": [
    {
     "name": "stdout",
     "output_type": "stream",
     "text": [
      "             Bigram  Frequency\n",
      "0    (credit, card)      12803\n",
      "1        (i, chase)       7600\n",
      "2            (i, i)       6220\n",
      "3         (xxxx, i)       5836\n",
      "4      (account, i)       5518\n",
      "5     (xxxxxxxx, i)       4903\n",
      "6      (i, account)       4191\n",
      "7  (credit, report)       3871\n",
      "8      (xxxx, xxxx)       3812\n",
      "9       (i, credit)       3603\n"
     ]
    }
   ],
   "source": [
    "#Print the top 10 words in the bigram frequency\n",
    "print(top_bigrams_df.head(10))"
   ]
  },
  {
   "cell_type": "code",
   "execution_count": 34,
   "metadata": {
    "id": "Xkh7vtbtJrF-"
   },
   "outputs": [
    {
     "name": "stdout",
     "output_type": "stream",
     "text": [
      "                        Trigram  Frequency\n",
      "0         (chase, credit, card)       2061\n",
      "1             (i, credit, card)       1671\n",
      "2             (credit, card, i)       1205\n",
      "3       (credit, card, account)       1014\n",
      "4       (credit, card, company)        980\n",
      "5        (i, customer, service)        736\n",
      "6               (xxxx, xxxx, i)        612\n",
      "7         (credit, card, chase)        596\n",
      "8               (i, account, i)        522\n",
      "9     (inquiry, credit, report)        510\n",
      "10           (i, chase, credit)        464\n",
      "11         (xxxxxxxx, i, chase)        453\n",
      "12                 (i, xxxx, i)        438\n",
      "13          (account, i, chase)        436\n",
      "14                (i, chase, i)        430\n",
      "15              (i, payment, i)        396\n",
      "16           (i, letter, chase)        394\n",
      "17  (credit, reporting, agency)        388\n",
      "18             (xxxx, i, chase)        384\n",
      "19              (i, xxxx, xxxx)        384\n",
      "20          (i, chase, account)        382\n",
      "21       (credit, card, credit)        379\n",
      "22          (credit, report, i)        372\n",
      "23             (i, chase, bank)        368\n",
      "24           (i, bank, account)        364\n",
      "25         (bank, credit, card)        360\n",
      "26        (account, i, account)        359\n",
      "27           (xxxx, xxxx, xxxx)        358\n",
      "28      (account, credit, card)        339\n",
      "29                 (i, card, i)        337\n"
     ]
    }
   ],
   "source": [
    "from nltk import trigrams\n",
    "\n",
    "#Write your code here to find the top 30 trigram frequency among the complaints in the cleaned datafram(df_clean).\n",
    "def generate_trigrams(sentence):\n",
    "    tokens = word_tokenize(sentence)  # Tokenize the sentence\n",
    "    return list(trigrams(tokens))     # Generate trigrams\n",
    "\n",
    "# Create a list of all trigrams across the DataFrame\n",
    "all_trigrams = []\n",
    "for sentence in df_clean['Complaint_clean']:\n",
    "    all_trigrams.extend(generate_trigrams(sentence))\n",
    "\n",
    "# Count trigram frequencies\n",
    "trigram_frequencies = Counter(all_trigrams)\n",
    "\n",
    "# Get the top 30 most frequent trigrams\n",
    "top_30_trigrams = trigram_frequencies.most_common(30)\n",
    "\n",
    "# Convert to DataFrame for better readability\n",
    "top_trigrams_df = pd.DataFrame(top_30_trigrams, columns=['Trigram', 'Frequency'])\n",
    "\n",
    "# Display the top 30 trigram frequencies\n",
    "print(top_trigrams_df)"
   ]
  },
  {
   "cell_type": "code",
   "execution_count": 35,
   "metadata": {
    "id": "REcVxNfvJrF-"
   },
   "outputs": [
    {
     "data": {
      "text/html": [
       "<div>\n",
       "<style scoped>\n",
       "    .dataframe tbody tr th:only-of-type {\n",
       "        vertical-align: middle;\n",
       "    }\n",
       "\n",
       "    .dataframe tbody tr th {\n",
       "        vertical-align: top;\n",
       "    }\n",
       "\n",
       "    .dataframe thead th {\n",
       "        text-align: right;\n",
       "    }\n",
       "</style>\n",
       "<table border=\"1\" class=\"dataframe\">\n",
       "  <thead>\n",
       "    <tr style=\"text-align: right;\">\n",
       "      <th></th>\n",
       "      <th>Trigram</th>\n",
       "      <th>Frequency</th>\n",
       "    </tr>\n",
       "  </thead>\n",
       "  <tbody>\n",
       "    <tr>\n",
       "      <th>0</th>\n",
       "      <td>(chase, credit, card)</td>\n",
       "      <td>2061</td>\n",
       "    </tr>\n",
       "    <tr>\n",
       "      <th>1</th>\n",
       "      <td>(i, credit, card)</td>\n",
       "      <td>1671</td>\n",
       "    </tr>\n",
       "    <tr>\n",
       "      <th>2</th>\n",
       "      <td>(credit, card, i)</td>\n",
       "      <td>1205</td>\n",
       "    </tr>\n",
       "    <tr>\n",
       "      <th>3</th>\n",
       "      <td>(credit, card, account)</td>\n",
       "      <td>1014</td>\n",
       "    </tr>\n",
       "    <tr>\n",
       "      <th>4</th>\n",
       "      <td>(credit, card, company)</td>\n",
       "      <td>980</td>\n",
       "    </tr>\n",
       "    <tr>\n",
       "      <th>5</th>\n",
       "      <td>(i, customer, service)</td>\n",
       "      <td>736</td>\n",
       "    </tr>\n",
       "    <tr>\n",
       "      <th>6</th>\n",
       "      <td>(xxxx, xxxx, i)</td>\n",
       "      <td>612</td>\n",
       "    </tr>\n",
       "    <tr>\n",
       "      <th>7</th>\n",
       "      <td>(credit, card, chase)</td>\n",
       "      <td>596</td>\n",
       "    </tr>\n",
       "    <tr>\n",
       "      <th>8</th>\n",
       "      <td>(i, account, i)</td>\n",
       "      <td>522</td>\n",
       "    </tr>\n",
       "    <tr>\n",
       "      <th>9</th>\n",
       "      <td>(inquiry, credit, report)</td>\n",
       "      <td>510</td>\n",
       "    </tr>\n",
       "  </tbody>\n",
       "</table>\n",
       "</div>"
      ],
      "text/plain": [
       "                     Trigram  Frequency\n",
       "0      (chase, credit, card)       2061\n",
       "1          (i, credit, card)       1671\n",
       "2          (credit, card, i)       1205\n",
       "3    (credit, card, account)       1014\n",
       "4    (credit, card, company)        980\n",
       "5     (i, customer, service)        736\n",
       "6            (xxxx, xxxx, i)        612\n",
       "7      (credit, card, chase)        596\n",
       "8            (i, account, i)        522\n",
       "9  (inquiry, credit, report)        510"
      ]
     },
     "execution_count": 35,
     "metadata": {},
     "output_type": "execute_result"
    }
   ],
   "source": [
    "#Print the top 10 words in the trigram frequency\n",
    "top_trigrams_df.head(10)"
   ]
  },
  {
   "cell_type": "markdown",
   "metadata": {
    "id": "yUXzFji0JrF_"
   },
   "source": [
    "## The personal details of customer has been masked in the dataset with xxxx. Let's remove the masked text as this will be of no use for our analysis"
   ]
  },
  {
   "cell_type": "code",
   "execution_count": 37,
   "metadata": {
    "id": "wKda-a_IJrF_"
   },
   "outputs": [
    {
     "name": "stderr",
     "output_type": "stream",
     "text": [
      "C:\\Users\\anshu\\AppData\\Local\\Temp\\ipykernel_53788\\619742717.py:1: SettingWithCopyWarning:\n",
      "\n",
      "\n",
      "A value is trying to be set on a copy of a slice from a DataFrame.\n",
      "Try using .loc[row_indexer,col_indexer] = value instead\n",
      "\n",
      "See the caveats in the documentation: https://pandas.pydata.org/pandas-docs/stable/user_guide/indexing.html#returning-a-view-versus-a-copy\n",
      "\n"
     ]
    }
   ],
   "source": [
    "df_clean['Complaint_clean'] = df_clean['Complaint_clean'].str.replace('xxxx','')"
   ]
  },
  {
   "cell_type": "code",
   "execution_count": 38,
   "metadata": {
    "id": "9UIFk8fQJrF_"
   },
   "outputs": [
    {
     "data": {
      "text/html": [
       "<div>\n",
       "<style scoped>\n",
       "    .dataframe tbody tr th:only-of-type {\n",
       "        vertical-align: middle;\n",
       "    }\n",
       "\n",
       "    .dataframe tbody tr th {\n",
       "        vertical-align: top;\n",
       "    }\n",
       "\n",
       "    .dataframe thead th {\n",
       "        text-align: right;\n",
       "    }\n",
       "</style>\n",
       "<table border=\"1\" class=\"dataframe\">\n",
       "  <thead>\n",
       "    <tr style=\"text-align: right;\">\n",
       "      <th></th>\n",
       "      <th>complaint_what_happened</th>\n",
       "      <th>lematized_complaints</th>\n",
       "      <th>complaint_POS_removed</th>\n",
       "      <th>complaint_POS_removed_text_length</th>\n",
       "      <th>Complaint_clean</th>\n",
       "    </tr>\n",
       "  </thead>\n",
       "  <tbody>\n",
       "    <tr>\n",
       "      <th>1</th>\n",
       "      <td>good morning my name is xxxx xxxx and i apprec...</td>\n",
       "      <td>good morning my name is xxxx xxxx and i apprec...</td>\n",
       "      <td>morning name stop bank cardmember service debt...</td>\n",
       "      <td>153</td>\n",
       "      <td>morning name stop bank cardmember service debt...</td>\n",
       "    </tr>\n",
       "    <tr>\n",
       "      <th>2</th>\n",
       "      <td>i upgraded my xxxx xxxx card in  and was told ...</td>\n",
       "      <td>i upgraded my xxxx xxxx card in and wa told by...</td>\n",
       "      <td>i card agent upgrade date agent wa information...</td>\n",
       "      <td>103</td>\n",
       "      <td>i card agent upgrade date agent wa information...</td>\n",
       "    </tr>\n",
       "    <tr>\n",
       "      <th>10</th>\n",
       "      <td>chase card was reported on  however fraudulent...</td>\n",
       "      <td>chase card wa reported on however fraudulent a...</td>\n",
       "      <td>card wa application identity consent service c...</td>\n",
       "      <td>70</td>\n",
       "      <td>card wa application identity consent service c...</td>\n",
       "    </tr>\n",
       "    <tr>\n",
       "      <th>11</th>\n",
       "      <td>on  while trying to book a xxxx  xxxx  ticket ...</td>\n",
       "      <td>on while trying to book a xxxx xxxx ticket i c...</td>\n",
       "      <td>book xxxx ticket i offer ticket card i informa...</td>\n",
       "      <td>434</td>\n",
       "      <td>book  ticket i offer ticket card i information...</td>\n",
       "    </tr>\n",
       "    <tr>\n",
       "      <th>14</th>\n",
       "      <td>my grand son give me check for  i deposit it i...</td>\n",
       "      <td>my grand son give me check for i deposit it in...</td>\n",
       "      <td>son deposit chase account fund chase bank acco...</td>\n",
       "      <td>170</td>\n",
       "      <td>son deposit chase account fund chase bank acco...</td>\n",
       "    </tr>\n",
       "  </tbody>\n",
       "</table>\n",
       "</div>"
      ],
      "text/plain": [
       "                              complaint_what_happened  \\\n",
       "1   good morning my name is xxxx xxxx and i apprec...   \n",
       "2   i upgraded my xxxx xxxx card in  and was told ...   \n",
       "10  chase card was reported on  however fraudulent...   \n",
       "11  on  while trying to book a xxxx  xxxx  ticket ...   \n",
       "14  my grand son give me check for  i deposit it i...   \n",
       "\n",
       "                                 lematized_complaints  \\\n",
       "1   good morning my name is xxxx xxxx and i apprec...   \n",
       "2   i upgraded my xxxx xxxx card in and wa told by...   \n",
       "10  chase card wa reported on however fraudulent a...   \n",
       "11  on while trying to book a xxxx xxxx ticket i c...   \n",
       "14  my grand son give me check for i deposit it in...   \n",
       "\n",
       "                                complaint_POS_removed  \\\n",
       "1   morning name stop bank cardmember service debt...   \n",
       "2   i card agent upgrade date agent wa information...   \n",
       "10  card wa application identity consent service c...   \n",
       "11  book xxxx ticket i offer ticket card i informa...   \n",
       "14  son deposit chase account fund chase bank acco...   \n",
       "\n",
       "    complaint_POS_removed_text_length  \\\n",
       "1                                 153   \n",
       "2                                 103   \n",
       "10                                 70   \n",
       "11                                434   \n",
       "14                                170   \n",
       "\n",
       "                                      Complaint_clean  \n",
       "1   morning name stop bank cardmember service debt...  \n",
       "2   i card agent upgrade date agent wa information...  \n",
       "10  card wa application identity consent service c...  \n",
       "11  book  ticket i offer ticket card i information...  \n",
       "14  son deposit chase account fund chase bank acco...  "
      ]
     },
     "execution_count": 38,
     "metadata": {},
     "output_type": "execute_result"
    }
   ],
   "source": [
    "#All masked texts has been removed\n",
    "df_clean.head()"
   ]
  },
  {
   "cell_type": "markdown",
   "metadata": {
    "id": "k-I0k0QtJrGA"
   },
   "source": [
    "## Feature Extraction\n",
    "Convert the raw texts to a matrix of TF-IDF features\n",
    "\n",
    "**max_df** is used for removing terms that appear too frequently, also known as \"corpus-specific stop words\"\n",
    "max_df = 0.95 means \"ignore terms that appear in more than 95% of the complaints\"\n",
    "\n",
    "**min_df** is used for removing terms that appear too infrequently\n",
    "min_df = 2 means \"ignore terms that appear in less than 2 complaints\""
   ]
  },
  {
   "cell_type": "code",
   "execution_count": 40,
   "metadata": {
    "id": "Y8fGwaCPJrGA"
   },
   "outputs": [],
   "source": [
    "#Write your code here to initialise the TfidfVectorizer\n",
    "vectorizer = TfidfVectorizer(max_df=0.98,min_df=2,stop_words='english')"
   ]
  },
  {
   "cell_type": "markdown",
   "metadata": {
    "id": "yYzD85nTJrGA"
   },
   "source": [
    "#### Create a document term matrix using fit_transform\n",
    "\n",
    "The contents of a document term matrix are tuples of (complaint_id,token_id) tf-idf score:\n",
    "The tuples that are not there have a tf-idf score of 0"
   ]
  },
  {
   "cell_type": "code",
   "execution_count": 42,
   "metadata": {
    "id": "ffzdDpp_JrGB"
   },
   "outputs": [
    {
     "name": "stdout",
     "output_type": "stream",
     "text": [
      "        __  ___  ____   aa  aarp   ab  abandonment  abatement  abbreviation  \\\n",
      "0      0.0  0.0   0.0  0.0   0.0  0.0          0.0        0.0           0.0   \n",
      "1      0.0  0.0   0.0  0.0   0.0  0.0          0.0        0.0           0.0   \n",
      "2      0.0  0.0   0.0  0.0   0.0  0.0          0.0        0.0           0.0   \n",
      "3      0.0  0.0   0.0  0.0   0.0  0.0          0.0        0.0           0.0   \n",
      "4      0.0  0.0   0.0  0.0   0.0  0.0          0.0        0.0           0.0   \n",
      "...    ...  ...   ...  ...   ...  ...          ...        ...           ...   \n",
      "21067  0.0  0.0   0.0  0.0   0.0  0.0          0.0        0.0           0.0   \n",
      "21068  0.0  0.0   0.0  0.0   0.0  0.0          0.0        0.0           0.0   \n",
      "21069  0.0  0.0   0.0  0.0   0.0  0.0          0.0        0.0           0.0   \n",
      "21070  0.0  0.0   0.0  0.0   0.0  0.0          0.0        0.0           0.0   \n",
      "21071  0.0  0.0   0.0  0.0   0.0  0.0          0.0        0.0           0.0   \n",
      "\n",
      "       abd  ...  youth  youve   yr  ytd  zero  zeroed  zip  zipcode  zombie  \\\n",
      "0      0.0  ...    0.0    0.0  0.0  0.0   0.0     0.0  0.0      0.0     0.0   \n",
      "1      0.0  ...    0.0    0.0  0.0  0.0   0.0     0.0  0.0      0.0     0.0   \n",
      "2      0.0  ...    0.0    0.0  0.0  0.0   0.0     0.0  0.0      0.0     0.0   \n",
      "3      0.0  ...    0.0    0.0  0.0  0.0   0.0     0.0  0.0      0.0     0.0   \n",
      "4      0.0  ...    0.0    0.0  0.0  0.0   0.0     0.0  0.0      0.0     0.0   \n",
      "...    ...  ...    ...    ...  ...  ...   ...     ...  ...      ...     ...   \n",
      "21067  0.0  ...    0.0    0.0  0.0  0.0   0.0     0.0  0.0      0.0     0.0   \n",
      "21068  0.0  ...    0.0    0.0  0.0  0.0   0.0     0.0  0.0      0.0     0.0   \n",
      "21069  0.0  ...    0.0    0.0  0.0  0.0   0.0     0.0  0.0      0.0     0.0   \n",
      "21070  0.0  ...    0.0    0.0  0.0  0.0   0.0     0.0  0.0      0.0     0.0   \n",
      "21071  0.0  ...    0.0    0.0  0.0  0.0   0.0     0.0  0.0      0.0     0.0   \n",
      "\n",
      "       zone  \n",
      "0       0.0  \n",
      "1       0.0  \n",
      "2       0.0  \n",
      "3       0.0  \n",
      "4       0.0  \n",
      "...     ...  \n",
      "21067   0.0  \n",
      "21068   0.0  \n",
      "21069   0.0  \n",
      "21070   0.0  \n",
      "21071   0.0  \n",
      "\n",
      "[21072 rows x 6968 columns]\n"
     ]
    }
   ],
   "source": [
    "#Write your code here to create the Document Term Matrix by transforming the complaints column present in df_clean.\n",
    "\n",
    "# Fit and transform the text data to generate the TF-IDF matrix\n",
    "tfidf = vectorizer.fit_transform(df_clean['Complaint_clean'])\n",
    "\n",
    "# Get feature names (words)\n",
    "feature_names = vectorizer.get_feature_names_out()\n",
    "\n",
    "# Convert the sparse matrix to a dense DataFrame\n",
    "tfidf_df = pd.DataFrame(tfidf.toarray(), columns=feature_names)\n",
    "\n",
    "# Display the TF-IDF DataFrame\n",
    "print(tfidf_df)"
   ]
  },
  {
   "cell_type": "markdown",
   "metadata": {
    "id": "7Q9lwvNEJrGB"
   },
   "source": [
    "## Topic Modelling using NMF\n",
    "\n",
    "Non-Negative Matrix Factorization (NMF) is an unsupervised technique so there are no labeling of topics that the model will be trained on. The way it works is that, NMF decomposes (or factorizes) high-dimensional vectors into a lower-dimensional representation. These lower-dimensional vectors are non-negative which also means their coefficients are non-negative.\n",
    "\n",
    "In this task you have to perform the following:\n",
    "\n",
    "* Find the best number of clusters\n",
    "* Apply the best number to create word clusters\n",
    "* Inspect & validate the correction of each cluster wrt the complaints\n",
    "* Correct the labels if needed\n",
    "* Map the clusters to topics/cluster names"
   ]
  },
  {
   "cell_type": "code",
   "execution_count": 44,
   "metadata": {
    "id": "amLT4omWJrGB"
   },
   "outputs": [],
   "source": [
    "from sklearn.decomposition import NMF"
   ]
  },
  {
   "cell_type": "markdown",
   "metadata": {
    "id": "0wYR1xUTJrGD"
   },
   "source": [
    "## Manual Topic Modeling\n",
    "You need to do take the trial & error approach to find the best num of topics for your NMF model.\n",
    "\n",
    "The only parameter that is required is the number of components i.e. the number of topics we want. This is the most crucial step in the whole topic modeling process and will greatly affect how good your final topics are."
   ]
  },
  {
   "cell_type": "code",
   "execution_count": 46,
   "metadata": {
    "id": "sgd2A6bhJrGD"
   },
   "outputs": [],
   "source": [
    "#Load your nmf_model with the n_components i.e 5\n",
    "num_topics = 5 #write the value you want to test out\n",
    "\n",
    "#keep the random_state =40\n",
    "nmf_model = NMF(n_components=num_topics, random_state=40)"
   ]
  },
  {
   "cell_type": "code",
   "execution_count": 47,
   "metadata": {
    "id": "VPMDYbt_JrGE"
   },
   "outputs": [
    {
     "name": "stderr",
     "output_type": "stream",
     "text": [
      "C:\\Users\\anshu\\anaconda3\\Lib\\site-packages\\sklearn\\decomposition\\_nmf.py:1665: ConvergenceWarning:\n",
      "\n",
      "Maximum number of iterations 200 reached. Increase it to improve convergence.\n",
      "\n"
     ]
    },
    {
     "data": {
      "text/plain": [
       "6968"
      ]
     },
     "execution_count": 47,
     "metadata": {},
     "output_type": "execute_result"
    }
   ],
   "source": [
    "nmf_model.fit(tfidf)\n",
    "H = nmf_model.components_ # Topic-term matrix\n",
    "len(vectorizer.get_feature_names_out())"
   ]
  },
  {
   "cell_type": "code",
   "execution_count": 48,
   "metadata": {
    "id": "16kRfat5JrGE"
   },
   "outputs": [
    {
     "data": {
      "text/html": [
       "<div>\n",
       "<style scoped>\n",
       "    .dataframe tbody tr th:only-of-type {\n",
       "        vertical-align: middle;\n",
       "    }\n",
       "\n",
       "    .dataframe tbody tr th {\n",
       "        vertical-align: top;\n",
       "    }\n",
       "\n",
       "    .dataframe thead th {\n",
       "        text-align: right;\n",
       "    }\n",
       "</style>\n",
       "<table border=\"1\" class=\"dataframe\">\n",
       "  <thead>\n",
       "    <tr style=\"text-align: right;\">\n",
       "      <th></th>\n",
       "      <th>Word 1</th>\n",
       "      <th>Word 2</th>\n",
       "      <th>Word 3</th>\n",
       "      <th>Word 4</th>\n",
       "      <th>Word 5</th>\n",
       "      <th>Word 6</th>\n",
       "      <th>Word 7</th>\n",
       "      <th>Word 8</th>\n",
       "      <th>Word 9</th>\n",
       "      <th>Word 10</th>\n",
       "      <th>Word 11</th>\n",
       "      <th>Word 12</th>\n",
       "      <th>Word 13</th>\n",
       "      <th>Word 14</th>\n",
       "      <th>Word 15</th>\n",
       "    </tr>\n",
       "  </thead>\n",
       "  <tbody>\n",
       "    <tr>\n",
       "      <th>Topic 1</th>\n",
       "      <td>account</td>\n",
       "      <td>bank</td>\n",
       "      <td>check</td>\n",
       "      <td>money</td>\n",
       "      <td>chase</td>\n",
       "      <td>fund</td>\n",
       "      <td>wa</td>\n",
       "      <td>deposit</td>\n",
       "      <td>branch</td>\n",
       "      <td>day</td>\n",
       "      <td>transaction</td>\n",
       "      <td>number</td>\n",
       "      <td>business</td>\n",
       "      <td>checking</td>\n",
       "      <td>claim</td>\n",
       "    </tr>\n",
       "    <tr>\n",
       "      <th>Topic 2</th>\n",
       "      <td>card</td>\n",
       "      <td>charge</td>\n",
       "      <td>chase</td>\n",
       "      <td>credit</td>\n",
       "      <td>wa</td>\n",
       "      <td>dispute</td>\n",
       "      <td>transaction</td>\n",
       "      <td>purchase</td>\n",
       "      <td>fraud</td>\n",
       "      <td>service</td>\n",
       "      <td>merchant</td>\n",
       "      <td>fee</td>\n",
       "      <td>time</td>\n",
       "      <td>claim</td>\n",
       "      <td>company</td>\n",
       "    </tr>\n",
       "    <tr>\n",
       "      <th>Topic 3</th>\n",
       "      <td>payment</td>\n",
       "      <td>balance</td>\n",
       "      <td>fee</td>\n",
       "      <td>month</td>\n",
       "      <td>statement</td>\n",
       "      <td>wa</td>\n",
       "      <td>day</td>\n",
       "      <td>time</td>\n",
       "      <td>date</td>\n",
       "      <td>auto</td>\n",
       "      <td>credit</td>\n",
       "      <td>chase</td>\n",
       "      <td>account</td>\n",
       "      <td>year</td>\n",
       "      <td>error</td>\n",
       "    </tr>\n",
       "    <tr>\n",
       "      <th>Topic 4</th>\n",
       "      <td>credit</td>\n",
       "      <td>report</td>\n",
       "      <td>inquiry</td>\n",
       "      <td>card</td>\n",
       "      <td>account</td>\n",
       "      <td>score</td>\n",
       "      <td>bureau</td>\n",
       "      <td>company</td>\n",
       "      <td>debt</td>\n",
       "      <td>reporting</td>\n",
       "      <td>information</td>\n",
       "      <td>limit</td>\n",
       "      <td>application</td>\n",
       "      <td>identity</td>\n",
       "      <td>chase</td>\n",
       "    </tr>\n",
       "    <tr>\n",
       "      <th>Topic 5</th>\n",
       "      <td>loan</td>\n",
       "      <td>mortgage</td>\n",
       "      <td>chase</td>\n",
       "      <td>home</td>\n",
       "      <td>modification</td>\n",
       "      <td>property</td>\n",
       "      <td>year</td>\n",
       "      <td>wa</td>\n",
       "      <td>letter</td>\n",
       "      <td>rate</td>\n",
       "      <td>time</td>\n",
       "      <td>document</td>\n",
       "      <td>foreclosure</td>\n",
       "      <td>bank</td>\n",
       "      <td>house</td>\n",
       "    </tr>\n",
       "  </tbody>\n",
       "</table>\n",
       "</div>"
      ],
      "text/plain": [
       "          Word 1    Word 2   Word 3  Word 4        Word 5    Word 6  \\\n",
       "Topic 1  account      bank    check   money         chase      fund   \n",
       "Topic 2     card    charge    chase  credit            wa   dispute   \n",
       "Topic 3  payment   balance      fee   month     statement        wa   \n",
       "Topic 4   credit    report  inquiry    card       account     score   \n",
       "Topic 5     loan  mortgage    chase    home  modification  property   \n",
       "\n",
       "              Word 7    Word 8  Word 9    Word 10      Word 11   Word 12  \\\n",
       "Topic 1           wa   deposit  branch        day  transaction    number   \n",
       "Topic 2  transaction  purchase   fraud    service     merchant       fee   \n",
       "Topic 3          day      time    date       auto       credit     chase   \n",
       "Topic 4       bureau   company    debt  reporting  information     limit   \n",
       "Topic 5         year        wa  letter       rate         time  document   \n",
       "\n",
       "             Word 13   Word 14  Word 15  \n",
       "Topic 1     business  checking    claim  \n",
       "Topic 2         time     claim  company  \n",
       "Topic 3      account      year    error  \n",
       "Topic 4  application  identity    chase  \n",
       "Topic 5  foreclosure      bank    house  "
      ]
     },
     "execution_count": 48,
     "metadata": {},
     "output_type": "execute_result"
    }
   ],
   "source": [
    "#Print the Top15 words for each of the topics\n",
    "\n",
    "words = np.array(vectorizer.get_feature_names_out())\n",
    "topic_words = pd.DataFrame(np.zeros((num_topics, 15)), index=[f'Topic {i + 1}' for i in range(num_topics)],\n",
    "                           columns=[f'Word {i + 1}' for i in range(15)]).astype(str)\n",
    "for i in range(num_topics):\n",
    "    ix = H[i].argsort()[::-1][:15]\n",
    "    topic_words.iloc[i] = words[ix]\n",
    "\n",
    "topic_words"
   ]
  },
  {
   "cell_type": "code",
   "execution_count": 49,
   "metadata": {
    "id": "0OIT7LmFJrGF"
   },
   "outputs": [
    {
     "data": {
      "text/plain": [
       "array([0, 1, 3, ..., 1, 2, 2], dtype=int64)"
      ]
     },
     "execution_count": 49,
     "metadata": {},
     "output_type": "execute_result"
    }
   ],
   "source": [
    "#Create the best topic for each complaint in terms of integer value 0,1,2,3 & 4\n",
    "topic_values = nmf_model.transform(tfidf)\n",
    "topic_values.argmax(axis=1)"
   ]
  },
  {
   "cell_type": "code",
   "execution_count": 50,
   "metadata": {
    "id": "peyYv-ORJrGF"
   },
   "outputs": [
    {
     "name": "stderr",
     "output_type": "stream",
     "text": [
      "C:\\Users\\anshu\\AppData\\Local\\Temp\\ipykernel_53788\\2925386490.py:2: SettingWithCopyWarning:\n",
      "\n",
      "\n",
      "A value is trying to be set on a copy of a slice from a DataFrame.\n",
      "Try using .loc[row_indexer,col_indexer] = value instead\n",
      "\n",
      "See the caveats in the documentation: https://pandas.pydata.org/pandas-docs/stable/user_guide/indexing.html#returning-a-view-versus-a-copy\n",
      "\n"
     ]
    }
   ],
   "source": [
    "#Assign the best topic to each of the cmplaints in Topic Column\n",
    "df_clean['Topic'] = topic_values.argmax(axis=1) #write your code to assign topics to each rows."
   ]
  },
  {
   "cell_type": "code",
   "execution_count": 51,
   "metadata": {
    "id": "fLh_Gf3nJrGF"
   },
   "outputs": [
    {
     "data": {
      "text/html": [
       "<div>\n",
       "<style scoped>\n",
       "    .dataframe tbody tr th:only-of-type {\n",
       "        vertical-align: middle;\n",
       "    }\n",
       "\n",
       "    .dataframe tbody tr th {\n",
       "        vertical-align: top;\n",
       "    }\n",
       "\n",
       "    .dataframe thead th {\n",
       "        text-align: right;\n",
       "    }\n",
       "</style>\n",
       "<table border=\"1\" class=\"dataframe\">\n",
       "  <thead>\n",
       "    <tr style=\"text-align: right;\">\n",
       "      <th></th>\n",
       "      <th>complaint_what_happened</th>\n",
       "      <th>lematized_complaints</th>\n",
       "      <th>complaint_POS_removed</th>\n",
       "      <th>complaint_POS_removed_text_length</th>\n",
       "      <th>Complaint_clean</th>\n",
       "      <th>Topic</th>\n",
       "    </tr>\n",
       "  </thead>\n",
       "  <tbody>\n",
       "    <tr>\n",
       "      <th>1</th>\n",
       "      <td>good morning my name is xxxx xxxx and i apprec...</td>\n",
       "      <td>good morning my name is xxxx xxxx and i apprec...</td>\n",
       "      <td>morning name stop bank cardmember service debt...</td>\n",
       "      <td>153</td>\n",
       "      <td>morning name stop bank cardmember service debt...</td>\n",
       "      <td>0</td>\n",
       "    </tr>\n",
       "    <tr>\n",
       "      <th>2</th>\n",
       "      <td>i upgraded my xxxx xxxx card in  and was told ...</td>\n",
       "      <td>i upgraded my xxxx xxxx card in and wa told by...</td>\n",
       "      <td>i card agent upgrade date agent wa information...</td>\n",
       "      <td>103</td>\n",
       "      <td>i card agent upgrade date agent wa information...</td>\n",
       "      <td>1</td>\n",
       "    </tr>\n",
       "    <tr>\n",
       "      <th>10</th>\n",
       "      <td>chase card was reported on  however fraudulent...</td>\n",
       "      <td>chase card wa reported on however fraudulent a...</td>\n",
       "      <td>card wa application identity consent service c...</td>\n",
       "      <td>70</td>\n",
       "      <td>card wa application identity consent service c...</td>\n",
       "      <td>3</td>\n",
       "    </tr>\n",
       "    <tr>\n",
       "      <th>11</th>\n",
       "      <td>on  while trying to book a xxxx  xxxx  ticket ...</td>\n",
       "      <td>on while trying to book a xxxx xxxx ticket i c...</td>\n",
       "      <td>book xxxx ticket i offer ticket card i informa...</td>\n",
       "      <td>434</td>\n",
       "      <td>book  ticket i offer ticket card i information...</td>\n",
       "      <td>3</td>\n",
       "    </tr>\n",
       "    <tr>\n",
       "      <th>14</th>\n",
       "      <td>my grand son give me check for  i deposit it i...</td>\n",
       "      <td>my grand son give me check for i deposit it in...</td>\n",
       "      <td>son deposit chase account fund chase bank acco...</td>\n",
       "      <td>170</td>\n",
       "      <td>son deposit chase account fund chase bank acco...</td>\n",
       "      <td>0</td>\n",
       "    </tr>\n",
       "  </tbody>\n",
       "</table>\n",
       "</div>"
      ],
      "text/plain": [
       "                              complaint_what_happened  \\\n",
       "1   good morning my name is xxxx xxxx and i apprec...   \n",
       "2   i upgraded my xxxx xxxx card in  and was told ...   \n",
       "10  chase card was reported on  however fraudulent...   \n",
       "11  on  while trying to book a xxxx  xxxx  ticket ...   \n",
       "14  my grand son give me check for  i deposit it i...   \n",
       "\n",
       "                                 lematized_complaints  \\\n",
       "1   good morning my name is xxxx xxxx and i apprec...   \n",
       "2   i upgraded my xxxx xxxx card in and wa told by...   \n",
       "10  chase card wa reported on however fraudulent a...   \n",
       "11  on while trying to book a xxxx xxxx ticket i c...   \n",
       "14  my grand son give me check for i deposit it in...   \n",
       "\n",
       "                                complaint_POS_removed  \\\n",
       "1   morning name stop bank cardmember service debt...   \n",
       "2   i card agent upgrade date agent wa information...   \n",
       "10  card wa application identity consent service c...   \n",
       "11  book xxxx ticket i offer ticket card i informa...   \n",
       "14  son deposit chase account fund chase bank acco...   \n",
       "\n",
       "    complaint_POS_removed_text_length  \\\n",
       "1                                 153   \n",
       "2                                 103   \n",
       "10                                 70   \n",
       "11                                434   \n",
       "14                                170   \n",
       "\n",
       "                                      Complaint_clean  Topic  \n",
       "1   morning name stop bank cardmember service debt...      0  \n",
       "2   i card agent upgrade date agent wa information...      1  \n",
       "10  card wa application identity consent service c...      3  \n",
       "11  book  ticket i offer ticket card i information...      3  \n",
       "14  son deposit chase account fund chase bank acco...      0  "
      ]
     },
     "execution_count": 51,
     "metadata": {},
     "output_type": "execute_result"
    }
   ],
   "source": [
    "df_clean.head()"
   ]
  },
  {
   "cell_type": "code",
   "execution_count": 52,
   "metadata": {
    "id": "aQKpufSPJrGG"
   },
   "outputs": [
    {
     "data": {
      "text/html": [
       "<div>\n",
       "<style scoped>\n",
       "    .dataframe tbody tr th:only-of-type {\n",
       "        vertical-align: middle;\n",
       "    }\n",
       "\n",
       "    .dataframe tbody tr th {\n",
       "        vertical-align: top;\n",
       "    }\n",
       "\n",
       "    .dataframe thead th {\n",
       "        text-align: right;\n",
       "    }\n",
       "</style>\n",
       "<table border=\"1\" class=\"dataframe\">\n",
       "  <thead>\n",
       "    <tr style=\"text-align: right;\">\n",
       "      <th></th>\n",
       "      <th>complaint_what_happened</th>\n",
       "      <th>lematized_complaints</th>\n",
       "      <th>complaint_POS_removed</th>\n",
       "      <th>complaint_POS_removed_text_length</th>\n",
       "      <th>Complaint_clean</th>\n",
       "      <th>Topic</th>\n",
       "    </tr>\n",
       "  </thead>\n",
       "  <tbody>\n",
       "    <tr>\n",
       "      <th>1</th>\n",
       "      <td>good morning my name is xxxx xxxx and i apprec...</td>\n",
       "      <td>good morning my name is xxxx xxxx and i apprec...</td>\n",
       "      <td>morning name stop bank cardmember service debt...</td>\n",
       "      <td>153</td>\n",
       "      <td>morning name stop bank cardmember service debt...</td>\n",
       "      <td>0</td>\n",
       "    </tr>\n",
       "    <tr>\n",
       "      <th>24</th>\n",
       "      <td>mishandling of this account by chase auto and ...</td>\n",
       "      <td>mishandling of this account by chase auto and ...</td>\n",
       "      <td>mishandling account auto xxxx</td>\n",
       "      <td>29</td>\n",
       "      <td>mishandling account auto</td>\n",
       "      <td>0</td>\n",
       "    </tr>\n",
       "    <tr>\n",
       "      <th>17</th>\n",
       "      <td>with out notice jp morgan chase restricted my ...</td>\n",
       "      <td>with out notice jp morgan chase restricted my ...</td>\n",
       "      <td>jp chase account debit card tuesday thursday b...</td>\n",
       "      <td>647</td>\n",
       "      <td>jp chase account debit card tuesday thursday b...</td>\n",
       "      <td>0</td>\n",
       "    </tr>\n",
       "    <tr>\n",
       "      <th>14</th>\n",
       "      <td>my grand son give me check for  i deposit it i...</td>\n",
       "      <td>my grand son give me check for i deposit it in...</td>\n",
       "      <td>son deposit chase account fund chase bank acco...</td>\n",
       "      <td>170</td>\n",
       "      <td>son deposit chase account fund chase bank acco...</td>\n",
       "      <td>0</td>\n",
       "    </tr>\n",
       "    <tr>\n",
       "      <th>27</th>\n",
       "      <td>i opened an account with chase bank on xxxx an...</td>\n",
       "      <td>i opened an account with chase bank on xxxx an...</td>\n",
       "      <td>i account bank xxxx code bonus i term everythi...</td>\n",
       "      <td>125</td>\n",
       "      <td>i account bank  code bonus i term everything w...</td>\n",
       "      <td>0</td>\n",
       "    </tr>\n",
       "    <tr>\n",
       "      <th>40</th>\n",
       "      <td>xxxx xxxx a sofa love seat table and chairs an...</td>\n",
       "      <td>xxxx xxxx a sofa love seat table and chair and...</td>\n",
       "      <td>xxxx love seat table chair wa debit card bank ...</td>\n",
       "      <td>67</td>\n",
       "      <td>love seat table chair wa debit card bank clai...</td>\n",
       "      <td>1</td>\n",
       "    </tr>\n",
       "    <tr>\n",
       "      <th>21</th>\n",
       "      <td>on xxxx  i made a  payment to an online retail...</td>\n",
       "      <td>on xxxx i made a payment to an online retailer...</td>\n",
       "      <td>xxxx i payment retailer pay xxxx chase website...</td>\n",
       "      <td>1175</td>\n",
       "      <td>i payment retailer pay  chase website i scam ...</td>\n",
       "      <td>1</td>\n",
       "    </tr>\n",
       "    <tr>\n",
       "      <th>45</th>\n",
       "      <td>i made a purchase with xxxx xxxx xxxx on  in t...</td>\n",
       "      <td>i made a purchase with xxxx xxxx xxxx on in th...</td>\n",
       "      <td>i purchase amount i transaction i dispute case...</td>\n",
       "      <td>568</td>\n",
       "      <td>i purchase amount i transaction i dispute case...</td>\n",
       "      <td>1</td>\n",
       "    </tr>\n",
       "    <tr>\n",
       "      <th>2</th>\n",
       "      <td>i upgraded my xxxx xxxx card in  and was told ...</td>\n",
       "      <td>i upgraded my xxxx xxxx card in and wa told by...</td>\n",
       "      <td>i card agent upgrade date agent wa information...</td>\n",
       "      <td>103</td>\n",
       "      <td>i card agent upgrade date agent wa information...</td>\n",
       "      <td>1</td>\n",
       "    </tr>\n",
       "    <tr>\n",
       "      <th>32</th>\n",
       "      <td>my chase amazon card was declined for a cateri...</td>\n",
       "      <td>my chase amazon card wa declined for a caterin...</td>\n",
       "      <td>chase wa catering order i brother funeral amou...</td>\n",
       "      <td>572</td>\n",
       "      <td>chase wa catering order i brother funeral amou...</td>\n",
       "      <td>1</td>\n",
       "    </tr>\n",
       "    <tr>\n",
       "      <th>82</th>\n",
       "      <td>i recently called to ask chase bank why they r...</td>\n",
       "      <td>i recently called to ask chase bank why they r...</td>\n",
       "      <td>i bank credit bureau day payment i i info xxxx...</td>\n",
       "      <td>274</td>\n",
       "      <td>i bank credit bureau day payment i i info  bil...</td>\n",
       "      <td>2</td>\n",
       "    </tr>\n",
       "    <tr>\n",
       "      <th>58</th>\n",
       "      <td>i made a purchase of  on xxxxxxxx i made payme...</td>\n",
       "      <td>i made a purchase of on xxxxxxxx i made paymen...</td>\n",
       "      <td>i purchase xxxxxxxx i payment xxxxxxxx payment...</td>\n",
       "      <td>399</td>\n",
       "      <td>i purchase  i payment  payment closing date wa...</td>\n",
       "      <td>2</td>\n",
       "    </tr>\n",
       "    <tr>\n",
       "      <th>160</th>\n",
       "      <td>on more than one occasion my bank  chase  has ...</td>\n",
       "      <td>on more than one occasion my bank chase ha cha...</td>\n",
       "      <td>occasion bank chase ha fee account way account...</td>\n",
       "      <td>280</td>\n",
       "      <td>occasion bank chase ha fee account way account...</td>\n",
       "      <td>2</td>\n",
       "    </tr>\n",
       "    <tr>\n",
       "      <th>20</th>\n",
       "      <td>during the summer months i experience a declin...</td>\n",
       "      <td>during the summer month i experience a decline...</td>\n",
       "      <td>summer month i income employment month payment...</td>\n",
       "      <td>600</td>\n",
       "      <td>summer month i income employment month payment...</td>\n",
       "      <td>2</td>\n",
       "    </tr>\n",
       "    <tr>\n",
       "      <th>141</th>\n",
       "      <td>action taken by the company between the dates ...</td>\n",
       "      <td>action taken by the company between the date o...</td>\n",
       "      <td>action company date individual group chase cla...</td>\n",
       "      <td>1722</td>\n",
       "      <td>action company date individual group chase cla...</td>\n",
       "      <td>2</td>\n",
       "    </tr>\n",
       "    <tr>\n",
       "      <th>26</th>\n",
       "      <td>i have reached out to xxxx several times in at...</td>\n",
       "      <td>i have reached out to xxxx several time in att...</td>\n",
       "      <td>time attempt inquiry creditor inquiry report a...</td>\n",
       "      <td>197</td>\n",
       "      <td>time attempt inquiry creditor inquiry report a...</td>\n",
       "      <td>3</td>\n",
       "    </tr>\n",
       "    <tr>\n",
       "      <th>11</th>\n",
       "      <td>on  while trying to book a xxxx  xxxx  ticket ...</td>\n",
       "      <td>on while trying to book a xxxx xxxx ticket i c...</td>\n",
       "      <td>book xxxx ticket i offer ticket card i informa...</td>\n",
       "      <td>434</td>\n",
       "      <td>book  ticket i offer ticket card i information...</td>\n",
       "      <td>3</td>\n",
       "    </tr>\n",
       "    <tr>\n",
       "      <th>23</th>\n",
       "      <td>i have a chase credit card which is incorrectl...</td>\n",
       "      <td>i have a chase credit card which is incorrectl...</td>\n",
       "      <td>chase credit card credit report company issue</td>\n",
       "      <td>45</td>\n",
       "      <td>chase credit card credit report company issue</td>\n",
       "      <td>3</td>\n",
       "    </tr>\n",
       "    <tr>\n",
       "      <th>10</th>\n",
       "      <td>chase card was reported on  however fraudulent...</td>\n",
       "      <td>chase card wa reported on however fraudulent a...</td>\n",
       "      <td>card wa application identity consent service c...</td>\n",
       "      <td>70</td>\n",
       "      <td>card wa application identity consent service c...</td>\n",
       "      <td>3</td>\n",
       "    </tr>\n",
       "    <tr>\n",
       "      <th>15</th>\n",
       "      <td>can you please remove inquiry</td>\n",
       "      <td>can you please remove inquiry</td>\n",
       "      <td>inquiry</td>\n",
       "      <td>7</td>\n",
       "      <td>inquiry</td>\n",
       "      <td>3</td>\n",
       "    </tr>\n",
       "    <tr>\n",
       "      <th>48</th>\n",
       "      <td>jp morgan chase bank please answer the followi...</td>\n",
       "      <td>jp morgan chase bank please answer the followi...</td>\n",
       "      <td>jp bank please question xxxxxxxx chase informa...</td>\n",
       "      <td>355</td>\n",
       "      <td>jp bank please question  chase information rea...</td>\n",
       "      <td>4</td>\n",
       "    </tr>\n",
       "    <tr>\n",
       "      <th>57</th>\n",
       "      <td>i have been trying to do a loan modification w...</td>\n",
       "      <td>i have been trying to do a loan modification w...</td>\n",
       "      <td>loan modification chase runaround im mo paymen...</td>\n",
       "      <td>51</td>\n",
       "      <td>loan modification chase runaround im mo paymen...</td>\n",
       "      <td>4</td>\n",
       "    </tr>\n",
       "    <tr>\n",
       "      <th>73</th>\n",
       "      <td>i have wired through one of chase branches in ...</td>\n",
       "      <td>i have wired through one of chase branch in xx...</td>\n",
       "      <td>chase branch reinstatement amount bank order f...</td>\n",
       "      <td>343</td>\n",
       "      <td>chase branch reinstatement amount bank order f...</td>\n",
       "      <td>4</td>\n",
       "    </tr>\n",
       "    <tr>\n",
       "      <th>81</th>\n",
       "      <td>i bought a new xxxx xxxx on xxxxxxxx from xxxx...</td>\n",
       "      <td>i bought a new xxxx xxxx on xxxxxxxx from xxxx...</td>\n",
       "      <td>i xxxx xxxxxxxx i loan title i time resolution...</td>\n",
       "      <td>109</td>\n",
       "      <td>i   i loan title i time resolution time nothin...</td>\n",
       "      <td>4</td>\n",
       "    </tr>\n",
       "    <tr>\n",
       "      <th>99</th>\n",
       "      <td>my name is xxxx xxxx i have missed a payment i...</td>\n",
       "      <td>my name is xxxx xxxx i have missed a payment i...</td>\n",
       "      <td>name xxxx payment day i time loan modification...</td>\n",
       "      <td>147</td>\n",
       "      <td>name  payment day i time loan modification los...</td>\n",
       "      <td>4</td>\n",
       "    </tr>\n",
       "  </tbody>\n",
       "</table>\n",
       "</div>"
      ],
      "text/plain": [
       "                               complaint_what_happened  \\\n",
       "1    good morning my name is xxxx xxxx and i apprec...   \n",
       "24   mishandling of this account by chase auto and ...   \n",
       "17   with out notice jp morgan chase restricted my ...   \n",
       "14   my grand son give me check for  i deposit it i...   \n",
       "27   i opened an account with chase bank on xxxx an...   \n",
       "40   xxxx xxxx a sofa love seat table and chairs an...   \n",
       "21   on xxxx  i made a  payment to an online retail...   \n",
       "45   i made a purchase with xxxx xxxx xxxx on  in t...   \n",
       "2    i upgraded my xxxx xxxx card in  and was told ...   \n",
       "32   my chase amazon card was declined for a cateri...   \n",
       "82   i recently called to ask chase bank why they r...   \n",
       "58   i made a purchase of  on xxxxxxxx i made payme...   \n",
       "160  on more than one occasion my bank  chase  has ...   \n",
       "20   during the summer months i experience a declin...   \n",
       "141  action taken by the company between the dates ...   \n",
       "26   i have reached out to xxxx several times in at...   \n",
       "11   on  while trying to book a xxxx  xxxx  ticket ...   \n",
       "23   i have a chase credit card which is incorrectl...   \n",
       "10   chase card was reported on  however fraudulent...   \n",
       "15                       can you please remove inquiry   \n",
       "48   jp morgan chase bank please answer the followi...   \n",
       "57   i have been trying to do a loan modification w...   \n",
       "73   i have wired through one of chase branches in ...   \n",
       "81   i bought a new xxxx xxxx on xxxxxxxx from xxxx...   \n",
       "99   my name is xxxx xxxx i have missed a payment i...   \n",
       "\n",
       "                                  lematized_complaints  \\\n",
       "1    good morning my name is xxxx xxxx and i apprec...   \n",
       "24   mishandling of this account by chase auto and ...   \n",
       "17   with out notice jp morgan chase restricted my ...   \n",
       "14   my grand son give me check for i deposit it in...   \n",
       "27   i opened an account with chase bank on xxxx an...   \n",
       "40   xxxx xxxx a sofa love seat table and chair and...   \n",
       "21   on xxxx i made a payment to an online retailer...   \n",
       "45   i made a purchase with xxxx xxxx xxxx on in th...   \n",
       "2    i upgraded my xxxx xxxx card in and wa told by...   \n",
       "32   my chase amazon card wa declined for a caterin...   \n",
       "82   i recently called to ask chase bank why they r...   \n",
       "58   i made a purchase of on xxxxxxxx i made paymen...   \n",
       "160  on more than one occasion my bank chase ha cha...   \n",
       "20   during the summer month i experience a decline...   \n",
       "141  action taken by the company between the date o...   \n",
       "26   i have reached out to xxxx several time in att...   \n",
       "11   on while trying to book a xxxx xxxx ticket i c...   \n",
       "23   i have a chase credit card which is incorrectl...   \n",
       "10   chase card wa reported on however fraudulent a...   \n",
       "15                       can you please remove inquiry   \n",
       "48   jp morgan chase bank please answer the followi...   \n",
       "57   i have been trying to do a loan modification w...   \n",
       "73   i have wired through one of chase branch in xx...   \n",
       "81   i bought a new xxxx xxxx on xxxxxxxx from xxxx...   \n",
       "99   my name is xxxx xxxx i have missed a payment i...   \n",
       "\n",
       "                                 complaint_POS_removed  \\\n",
       "1    morning name stop bank cardmember service debt...   \n",
       "24                       mishandling account auto xxxx   \n",
       "17   jp chase account debit card tuesday thursday b...   \n",
       "14   son deposit chase account fund chase bank acco...   \n",
       "27   i account bank xxxx code bonus i term everythi...   \n",
       "40   xxxx love seat table chair wa debit card bank ...   \n",
       "21   xxxx i payment retailer pay xxxx chase website...   \n",
       "45   i purchase amount i transaction i dispute case...   \n",
       "2    i card agent upgrade date agent wa information...   \n",
       "32   chase wa catering order i brother funeral amou...   \n",
       "82   i bank credit bureau day payment i i info xxxx...   \n",
       "58   i purchase xxxxxxxx i payment xxxxxxxx payment...   \n",
       "160  occasion bank chase ha fee account way account...   \n",
       "20   summer month i income employment month payment...   \n",
       "141  action company date individual group chase cla...   \n",
       "26   time attempt inquiry creditor inquiry report a...   \n",
       "11   book xxxx ticket i offer ticket card i informa...   \n",
       "23       chase credit card credit report company issue   \n",
       "10   card wa application identity consent service c...   \n",
       "15                                             inquiry   \n",
       "48   jp bank please question xxxxxxxx chase informa...   \n",
       "57   loan modification chase runaround im mo paymen...   \n",
       "73   chase branch reinstatement amount bank order f...   \n",
       "81   i xxxx xxxxxxxx i loan title i time resolution...   \n",
       "99   name xxxx payment day i time loan modification...   \n",
       "\n",
       "     complaint_POS_removed_text_length  \\\n",
       "1                                  153   \n",
       "24                                  29   \n",
       "17                                 647   \n",
       "14                                 170   \n",
       "27                                 125   \n",
       "40                                  67   \n",
       "21                                1175   \n",
       "45                                 568   \n",
       "2                                  103   \n",
       "32                                 572   \n",
       "82                                 274   \n",
       "58                                 399   \n",
       "160                                280   \n",
       "20                                 600   \n",
       "141                               1722   \n",
       "26                                 197   \n",
       "11                                 434   \n",
       "23                                  45   \n",
       "10                                  70   \n",
       "15                                   7   \n",
       "48                                 355   \n",
       "57                                  51   \n",
       "73                                 343   \n",
       "81                                 109   \n",
       "99                                 147   \n",
       "\n",
       "                                       Complaint_clean  Topic  \n",
       "1    morning name stop bank cardmember service debt...      0  \n",
       "24                           mishandling account auto       0  \n",
       "17   jp chase account debit card tuesday thursday b...      0  \n",
       "14   son deposit chase account fund chase bank acco...      0  \n",
       "27   i account bank  code bonus i term everything w...      0  \n",
       "40    love seat table chair wa debit card bank clai...      1  \n",
       "21    i payment retailer pay  chase website i scam ...      1  \n",
       "45   i purchase amount i transaction i dispute case...      1  \n",
       "2    i card agent upgrade date agent wa information...      1  \n",
       "32   chase wa catering order i brother funeral amou...      1  \n",
       "82   i bank credit bureau day payment i i info  bil...      2  \n",
       "58   i purchase  i payment  payment closing date wa...      2  \n",
       "160  occasion bank chase ha fee account way account...      2  \n",
       "20   summer month i income employment month payment...      2  \n",
       "141  action company date individual group chase cla...      2  \n",
       "26   time attempt inquiry creditor inquiry report a...      3  \n",
       "11   book  ticket i offer ticket card i information...      3  \n",
       "23       chase credit card credit report company issue      3  \n",
       "10   card wa application identity consent service c...      3  \n",
       "15                                             inquiry      3  \n",
       "48   jp bank please question  chase information rea...      4  \n",
       "57   loan modification chase runaround im mo paymen...      4  \n",
       "73   chase branch reinstatement amount bank order f...      4  \n",
       "81   i   i loan title i time resolution time nothin...      4  \n",
       "99   name  payment day i time loan modification los...      4  "
      ]
     },
     "execution_count": 52,
     "metadata": {},
     "output_type": "execute_result"
    }
   ],
   "source": [
    "#Print the first 5 Complaint for each of the Topics\n",
    "df_clean_temp=df_clean.groupby('Topic').head(5)\n",
    "df_clean_temp.sort_values('Topic')"
   ]
  },
  {
   "cell_type": "markdown",
   "metadata": {
    "id": "piyLxzj6v07j"
   },
   "source": [
    "#### After evaluating the mapping, if the topics assigned are correct then assign these names to the relevant topic:\n",
    "* Bank Account services\n",
    "* Credit card or prepaid card\n",
    "* Theft/Dispute Reporting\n",
    "* Mortgage/Loan\n",
    "* Others"
   ]
  },
  {
   "cell_type": "code",
   "execution_count": 54,
   "metadata": {
    "id": "TWpwDG4RJrGG"
   },
   "outputs": [
    {
     "name": "stderr",
     "output_type": "stream",
     "text": [
      "C:\\Users\\anshu\\AppData\\Local\\Temp\\ipykernel_53788\\3631620719.py:11: SettingWithCopyWarning:\n",
      "\n",
      "\n",
      "A value is trying to be set on a copy of a slice from a DataFrame.\n",
      "Try using .loc[row_indexer,col_indexer] = value instead\n",
      "\n",
      "See the caveats in the documentation: https://pandas.pydata.org/pandas-docs/stable/user_guide/indexing.html#returning-a-view-versus-a-copy\n",
      "\n"
     ]
    }
   ],
   "source": [
    "#Create the dictionary of Topic names and Topics\n",
    "\n",
    "Topic_names = {\n",
    "    0: 'Bank Account services',\n",
    "    1: 'Theft/Dispute Reporting',\n",
    "    2: 'Others',\n",
    "    3: 'Credit card or prepaid card',\n",
    "    4: 'Mortgage/Loan'\n",
    "}\n",
    "#Replace Topics with Topic Names\n",
    "df_clean['Topic'] = df_clean['Topic'].map(Topic_names)"
   ]
  },
  {
   "cell_type": "code",
   "execution_count": 55,
   "metadata": {
    "id": "-2ULY5K6JrGG"
   },
   "outputs": [
    {
     "data": {
      "text/html": [
       "<div>\n",
       "<style scoped>\n",
       "    .dataframe tbody tr th:only-of-type {\n",
       "        vertical-align: middle;\n",
       "    }\n",
       "\n",
       "    .dataframe tbody tr th {\n",
       "        vertical-align: top;\n",
       "    }\n",
       "\n",
       "    .dataframe thead th {\n",
       "        text-align: right;\n",
       "    }\n",
       "</style>\n",
       "<table border=\"1\" class=\"dataframe\">\n",
       "  <thead>\n",
       "    <tr style=\"text-align: right;\">\n",
       "      <th></th>\n",
       "      <th>complaint_what_happened</th>\n",
       "      <th>lematized_complaints</th>\n",
       "      <th>complaint_POS_removed</th>\n",
       "      <th>complaint_POS_removed_text_length</th>\n",
       "      <th>Complaint_clean</th>\n",
       "      <th>Topic</th>\n",
       "    </tr>\n",
       "  </thead>\n",
       "  <tbody>\n",
       "    <tr>\n",
       "      <th>1</th>\n",
       "      <td>good morning my name is xxxx xxxx and i apprec...</td>\n",
       "      <td>good morning my name is xxxx xxxx and i apprec...</td>\n",
       "      <td>morning name stop bank cardmember service debt...</td>\n",
       "      <td>153</td>\n",
       "      <td>morning name stop bank cardmember service debt...</td>\n",
       "      <td>Bank Account services</td>\n",
       "    </tr>\n",
       "    <tr>\n",
       "      <th>2</th>\n",
       "      <td>i upgraded my xxxx xxxx card in  and was told ...</td>\n",
       "      <td>i upgraded my xxxx xxxx card in and wa told by...</td>\n",
       "      <td>i card agent upgrade date agent wa information...</td>\n",
       "      <td>103</td>\n",
       "      <td>i card agent upgrade date agent wa information...</td>\n",
       "      <td>Theft/Dispute Reporting</td>\n",
       "    </tr>\n",
       "    <tr>\n",
       "      <th>10</th>\n",
       "      <td>chase card was reported on  however fraudulent...</td>\n",
       "      <td>chase card wa reported on however fraudulent a...</td>\n",
       "      <td>card wa application identity consent service c...</td>\n",
       "      <td>70</td>\n",
       "      <td>card wa application identity consent service c...</td>\n",
       "      <td>Credit card or prepaid card</td>\n",
       "    </tr>\n",
       "    <tr>\n",
       "      <th>11</th>\n",
       "      <td>on  while trying to book a xxxx  xxxx  ticket ...</td>\n",
       "      <td>on while trying to book a xxxx xxxx ticket i c...</td>\n",
       "      <td>book xxxx ticket i offer ticket card i informa...</td>\n",
       "      <td>434</td>\n",
       "      <td>book  ticket i offer ticket card i information...</td>\n",
       "      <td>Credit card or prepaid card</td>\n",
       "    </tr>\n",
       "    <tr>\n",
       "      <th>14</th>\n",
       "      <td>my grand son give me check for  i deposit it i...</td>\n",
       "      <td>my grand son give me check for i deposit it in...</td>\n",
       "      <td>son deposit chase account fund chase bank acco...</td>\n",
       "      <td>170</td>\n",
       "      <td>son deposit chase account fund chase bank acco...</td>\n",
       "      <td>Bank Account services</td>\n",
       "    </tr>\n",
       "    <tr>\n",
       "      <th>15</th>\n",
       "      <td>can you please remove inquiry</td>\n",
       "      <td>can you please remove inquiry</td>\n",
       "      <td>inquiry</td>\n",
       "      <td>7</td>\n",
       "      <td>inquiry</td>\n",
       "      <td>Credit card or prepaid card</td>\n",
       "    </tr>\n",
       "    <tr>\n",
       "      <th>17</th>\n",
       "      <td>with out notice jp morgan chase restricted my ...</td>\n",
       "      <td>with out notice jp morgan chase restricted my ...</td>\n",
       "      <td>jp chase account debit card tuesday thursday b...</td>\n",
       "      <td>647</td>\n",
       "      <td>jp chase account debit card tuesday thursday b...</td>\n",
       "      <td>Bank Account services</td>\n",
       "    </tr>\n",
       "    <tr>\n",
       "      <th>20</th>\n",
       "      <td>during the summer months i experience a declin...</td>\n",
       "      <td>during the summer month i experience a decline...</td>\n",
       "      <td>summer month i income employment month payment...</td>\n",
       "      <td>600</td>\n",
       "      <td>summer month i income employment month payment...</td>\n",
       "      <td>Others</td>\n",
       "    </tr>\n",
       "    <tr>\n",
       "      <th>21</th>\n",
       "      <td>on xxxx  i made a  payment to an online retail...</td>\n",
       "      <td>on xxxx i made a payment to an online retailer...</td>\n",
       "      <td>xxxx i payment retailer pay xxxx chase website...</td>\n",
       "      <td>1175</td>\n",
       "      <td>i payment retailer pay  chase website i scam ...</td>\n",
       "      <td>Theft/Dispute Reporting</td>\n",
       "    </tr>\n",
       "    <tr>\n",
       "      <th>23</th>\n",
       "      <td>i have a chase credit card which is incorrectl...</td>\n",
       "      <td>i have a chase credit card which is incorrectl...</td>\n",
       "      <td>chase credit card credit report company issue</td>\n",
       "      <td>45</td>\n",
       "      <td>chase credit card credit report company issue</td>\n",
       "      <td>Credit card or prepaid card</td>\n",
       "    </tr>\n",
       "  </tbody>\n",
       "</table>\n",
       "</div>"
      ],
      "text/plain": [
       "                              complaint_what_happened  \\\n",
       "1   good morning my name is xxxx xxxx and i apprec...   \n",
       "2   i upgraded my xxxx xxxx card in  and was told ...   \n",
       "10  chase card was reported on  however fraudulent...   \n",
       "11  on  while trying to book a xxxx  xxxx  ticket ...   \n",
       "14  my grand son give me check for  i deposit it i...   \n",
       "15                      can you please remove inquiry   \n",
       "17  with out notice jp morgan chase restricted my ...   \n",
       "20  during the summer months i experience a declin...   \n",
       "21  on xxxx  i made a  payment to an online retail...   \n",
       "23  i have a chase credit card which is incorrectl...   \n",
       "\n",
       "                                 lematized_complaints  \\\n",
       "1   good morning my name is xxxx xxxx and i apprec...   \n",
       "2   i upgraded my xxxx xxxx card in and wa told by...   \n",
       "10  chase card wa reported on however fraudulent a...   \n",
       "11  on while trying to book a xxxx xxxx ticket i c...   \n",
       "14  my grand son give me check for i deposit it in...   \n",
       "15                      can you please remove inquiry   \n",
       "17  with out notice jp morgan chase restricted my ...   \n",
       "20  during the summer month i experience a decline...   \n",
       "21  on xxxx i made a payment to an online retailer...   \n",
       "23  i have a chase credit card which is incorrectl...   \n",
       "\n",
       "                                complaint_POS_removed  \\\n",
       "1   morning name stop bank cardmember service debt...   \n",
       "2   i card agent upgrade date agent wa information...   \n",
       "10  card wa application identity consent service c...   \n",
       "11  book xxxx ticket i offer ticket card i informa...   \n",
       "14  son deposit chase account fund chase bank acco...   \n",
       "15                                            inquiry   \n",
       "17  jp chase account debit card tuesday thursday b...   \n",
       "20  summer month i income employment month payment...   \n",
       "21  xxxx i payment retailer pay xxxx chase website...   \n",
       "23      chase credit card credit report company issue   \n",
       "\n",
       "    complaint_POS_removed_text_length  \\\n",
       "1                                 153   \n",
       "2                                 103   \n",
       "10                                 70   \n",
       "11                                434   \n",
       "14                                170   \n",
       "15                                  7   \n",
       "17                                647   \n",
       "20                                600   \n",
       "21                               1175   \n",
       "23                                 45   \n",
       "\n",
       "                                      Complaint_clean  \\\n",
       "1   morning name stop bank cardmember service debt...   \n",
       "2   i card agent upgrade date agent wa information...   \n",
       "10  card wa application identity consent service c...   \n",
       "11  book  ticket i offer ticket card i information...   \n",
       "14  son deposit chase account fund chase bank acco...   \n",
       "15                                            inquiry   \n",
       "17  jp chase account debit card tuesday thursday b...   \n",
       "20  summer month i income employment month payment...   \n",
       "21   i payment retailer pay  chase website i scam ...   \n",
       "23      chase credit card credit report company issue   \n",
       "\n",
       "                          Topic  \n",
       "1         Bank Account services  \n",
       "2       Theft/Dispute Reporting  \n",
       "10  Credit card or prepaid card  \n",
       "11  Credit card or prepaid card  \n",
       "14        Bank Account services  \n",
       "15  Credit card or prepaid card  \n",
       "17        Bank Account services  \n",
       "20                       Others  \n",
       "21      Theft/Dispute Reporting  \n",
       "23  Credit card or prepaid card  "
      ]
     },
     "execution_count": 55,
     "metadata": {},
     "output_type": "execute_result"
    }
   ],
   "source": [
    "df_clean.head(10)"
   ]
  },
  {
   "cell_type": "markdown",
   "metadata": {
    "id": "7Mu0QBOcJrGH"
   },
   "source": [
    "## Supervised model to predict any new complaints to the relevant Topics.\n",
    "\n",
    "You have now build the model to create the topics for each complaints.Now in the below section you will use them to classify any new complaints.\n",
    "\n",
    "Since you will be using supervised learning technique we have to convert the topic names to numbers(numpy arrays only understand numbers)"
   ]
  },
  {
   "cell_type": "code",
   "execution_count": 57,
   "metadata": {
    "id": "_U8J3J8wJrGH"
   },
   "outputs": [
    {
     "name": "stderr",
     "output_type": "stream",
     "text": [
      "C:\\Users\\anshu\\AppData\\Local\\Temp\\ipykernel_53788\\157592098.py:10: SettingWithCopyWarning:\n",
      "\n",
      "\n",
      "A value is trying to be set on a copy of a slice from a DataFrame.\n",
      "Try using .loc[row_indexer,col_indexer] = value instead\n",
      "\n",
      "See the caveats in the documentation: https://pandas.pydata.org/pandas-docs/stable/user_guide/indexing.html#returning-a-view-versus-a-copy\n",
      "\n"
     ]
    }
   ],
   "source": [
    "#Create the dictionary again of Topic names and Topics\n",
    "Topic_names = {\n",
    "    'Bank Account services': 0,\n",
    "    'Theft/Dispute Reporting': 1,\n",
    "    'Others': 2,\n",
    "    'Credit card or prepaid card': 3,\n",
    "    'Mortgage/Loan': 4\n",
    "}\n",
    "#Replace Topics with Topic Names\n",
    "df_clean['Topic'] = df_clean['Topic'].map(Topic_names)"
   ]
  },
  {
   "cell_type": "code",
   "execution_count": 58,
   "metadata": {
    "id": "BWIgJUkQJrGH"
   },
   "outputs": [
    {
     "data": {
      "text/plain": [
       "Topic\n",
       "0    5784\n",
       "1    5721\n",
       "4    3854\n",
       "3    3223\n",
       "2    2490\n",
       "Name: count, dtype: int64"
      ]
     },
     "execution_count": 58,
     "metadata": {},
     "output_type": "execute_result"
    }
   ],
   "source": [
    "df_clean['Topic'].value_counts()"
   ]
  },
  {
   "cell_type": "code",
   "execution_count": 59,
   "metadata": {
    "id": "Xx-FrbkWJrGH"
   },
   "outputs": [],
   "source": [
    "#Keep the columns\"complaint_what_happened\" & \"Topic\" only in the new dataframe --> training_data\n",
    "training_data=df_clean[['complaint_what_happened','Topic']]"
   ]
  },
  {
   "cell_type": "code",
   "execution_count": 60,
   "metadata": {
    "id": "lVg2pa12JrGI"
   },
   "outputs": [
    {
     "data": {
      "text/html": [
       "<div>\n",
       "<style scoped>\n",
       "    .dataframe tbody tr th:only-of-type {\n",
       "        vertical-align: middle;\n",
       "    }\n",
       "\n",
       "    .dataframe tbody tr th {\n",
       "        vertical-align: top;\n",
       "    }\n",
       "\n",
       "    .dataframe thead th {\n",
       "        text-align: right;\n",
       "    }\n",
       "</style>\n",
       "<table border=\"1\" class=\"dataframe\">\n",
       "  <thead>\n",
       "    <tr style=\"text-align: right;\">\n",
       "      <th></th>\n",
       "      <th>complaint_what_happened</th>\n",
       "      <th>Topic</th>\n",
       "    </tr>\n",
       "  </thead>\n",
       "  <tbody>\n",
       "    <tr>\n",
       "      <th>1</th>\n",
       "      <td>good morning my name is xxxx xxxx and i apprec...</td>\n",
       "      <td>0</td>\n",
       "    </tr>\n",
       "    <tr>\n",
       "      <th>2</th>\n",
       "      <td>i upgraded my xxxx xxxx card in  and was told ...</td>\n",
       "      <td>1</td>\n",
       "    </tr>\n",
       "    <tr>\n",
       "      <th>10</th>\n",
       "      <td>chase card was reported on  however fraudulent...</td>\n",
       "      <td>3</td>\n",
       "    </tr>\n",
       "    <tr>\n",
       "      <th>11</th>\n",
       "      <td>on  while trying to book a xxxx  xxxx  ticket ...</td>\n",
       "      <td>3</td>\n",
       "    </tr>\n",
       "    <tr>\n",
       "      <th>14</th>\n",
       "      <td>my grand son give me check for  i deposit it i...</td>\n",
       "      <td>0</td>\n",
       "    </tr>\n",
       "    <tr>\n",
       "      <th>...</th>\n",
       "      <td>...</td>\n",
       "      <td>...</td>\n",
       "    </tr>\n",
       "    <tr>\n",
       "      <th>78303</th>\n",
       "      <td>after being a chase card customer for well ove...</td>\n",
       "      <td>1</td>\n",
       "    </tr>\n",
       "    <tr>\n",
       "      <th>78309</th>\n",
       "      <td>on wednesday xxxxxxxx i called chas my xxxx xx...</td>\n",
       "      <td>1</td>\n",
       "    </tr>\n",
       "    <tr>\n",
       "      <th>78310</th>\n",
       "      <td>i am not familiar with xxxx pay and did not un...</td>\n",
       "      <td>1</td>\n",
       "    </tr>\n",
       "    <tr>\n",
       "      <th>78311</th>\n",
       "      <td>i have had flawless credit for  yrs ive had ch...</td>\n",
       "      <td>2</td>\n",
       "    </tr>\n",
       "    <tr>\n",
       "      <th>78312</th>\n",
       "      <td>roughly  years ago i closed out my accounts wi...</td>\n",
       "      <td>2</td>\n",
       "    </tr>\n",
       "  </tbody>\n",
       "</table>\n",
       "<p>21072 rows × 2 columns</p>\n",
       "</div>"
      ],
      "text/plain": [
       "                                 complaint_what_happened  Topic\n",
       "1      good morning my name is xxxx xxxx and i apprec...      0\n",
       "2      i upgraded my xxxx xxxx card in  and was told ...      1\n",
       "10     chase card was reported on  however fraudulent...      3\n",
       "11     on  while trying to book a xxxx  xxxx  ticket ...      3\n",
       "14     my grand son give me check for  i deposit it i...      0\n",
       "...                                                  ...    ...\n",
       "78303  after being a chase card customer for well ove...      1\n",
       "78309  on wednesday xxxxxxxx i called chas my xxxx xx...      1\n",
       "78310  i am not familiar with xxxx pay and did not un...      1\n",
       "78311  i have had flawless credit for  yrs ive had ch...      2\n",
       "78312  roughly  years ago i closed out my accounts wi...      2\n",
       "\n",
       "[21072 rows x 2 columns]"
      ]
     },
     "execution_count": 60,
     "metadata": {},
     "output_type": "execute_result"
    }
   ],
   "source": [
    "training_data"
   ]
  },
  {
   "cell_type": "markdown",
   "metadata": {
    "id": "280Vbqk-7a8M"
   },
   "source": [
    "### Apply the supervised models on the training data created. In this process, you have to do the following:\n",
    "* Create the vector counts using Count Vectoriser\n",
    "* Transform the word vecotr to tf-idf\n",
    "* Create the train & test data using the train_test_split on the tf-idf & topics\n"
   ]
  },
  {
   "cell_type": "code",
   "execution_count": 62,
   "metadata": {
    "id": "oUlQpgkzJrGI"
   },
   "outputs": [],
   "source": [
    "#Write your code to get the Vector count\n",
    "count_vect=CountVectorizer(stop_words='english')\n",
    "X_train_counts=count_vect.fit_transform(training_data['complaint_what_happened'])\n",
    "\n",
    "#Write your code here to transform the word vector to tf-idf\n",
    "tfidf_transformer=TfidfTransformer()\n",
    "X_train_tf=tfidf_transformer.fit_transform(X_train_counts)\n",
    "\n",
    "# Create the train and test data using the train_test_split on tf-idf and topics\n",
    "train_X, test_X, train_y, test_y = train_test_split(X_train_tf, training_data['Topic'], test_size=0.2, random_state=40)"
   ]
  },
  {
   "cell_type": "code",
   "execution_count": 63,
   "metadata": {},
   "outputs": [
    {
     "name": "stdout",
     "output_type": "stream",
     "text": [
      "train_X - (16857, 33356)\n",
      "test_X - (4215, 33356)\n",
      "train_y - (16857,)\n",
      "test_y - (4215,)\n"
     ]
    }
   ],
   "source": [
    "print(f'train_X - {train_X.shape}')\n",
    "print(f'test_X - {test_X.shape}')\n",
    "print(f'train_y - {train_y.shape}')\n",
    "print(f'test_y - {test_y.shape}')"
   ]
  },
  {
   "cell_type": "markdown",
   "metadata": {
    "id": "uMU3vj6w-wqL"
   },
   "source": [
    "You have to try atleast 3 models on the train & test data from these options:\n",
    "* Logistic regression\n",
    "* Decision Tree\n",
    "* Random Forest\n",
    "* Naive Bayes (optional)\n",
    "\n",
    "**Using the required evaluation metrics judge the tried models and select the ones performing the best**"
   ]
  },
  {
   "cell_type": "code",
   "execution_count": 65,
   "metadata": {
    "id": "udLHpPsZJrGI"
   },
   "outputs": [],
   "source": [
    "# Write your code here to build any 3 models and evaluate them using the required metrics"
   ]
  },
  {
   "cell_type": "markdown",
   "metadata": {
    "id": "N2OznsObJrGP"
   },
   "source": [
    "### 1. Decision Tree"
   ]
  },
  {
   "cell_type": "code",
   "execution_count": 67,
   "metadata": {},
   "outputs": [],
   "source": [
    "from sklearn.tree import DecisionTreeClassifier\n",
    "from sklearn.metrics import confusion_matrix, accuracy_score"
   ]
  },
  {
   "cell_type": "code",
   "execution_count": 68,
   "metadata": {},
   "outputs": [
    {
     "name": "stdout",
     "output_type": "stream",
     "text": [
      "Requirement already satisfied: six in c:\\users\\anshu\\anaconda3\\lib\\site-packages (1.16.0)\n"
     ]
    }
   ],
   "source": [
    "!pip install six"
   ]
  },
  {
   "cell_type": "markdown",
   "metadata": {},
   "source": [
    "#### Building Model"
   ]
  },
  {
   "cell_type": "code",
   "execution_count": 70,
   "metadata": {},
   "outputs": [
    {
     "data": {
      "text/html": [
       "<style>#sk-container-id-1 {color: black;background-color: white;}#sk-container-id-1 pre{padding: 0;}#sk-container-id-1 div.sk-toggleable {background-color: white;}#sk-container-id-1 label.sk-toggleable__label {cursor: pointer;display: block;width: 100%;margin-bottom: 0;padding: 0.3em;box-sizing: border-box;text-align: center;}#sk-container-id-1 label.sk-toggleable__label-arrow:before {content: \"▸\";float: left;margin-right: 0.25em;color: #696969;}#sk-container-id-1 label.sk-toggleable__label-arrow:hover:before {color: black;}#sk-container-id-1 div.sk-estimator:hover label.sk-toggleable__label-arrow:before {color: black;}#sk-container-id-1 div.sk-toggleable__content {max-height: 0;max-width: 0;overflow: hidden;text-align: left;background-color: #f0f8ff;}#sk-container-id-1 div.sk-toggleable__content pre {margin: 0.2em;color: black;border-radius: 0.25em;background-color: #f0f8ff;}#sk-container-id-1 input.sk-toggleable__control:checked~div.sk-toggleable__content {max-height: 200px;max-width: 100%;overflow: auto;}#sk-container-id-1 input.sk-toggleable__control:checked~label.sk-toggleable__label-arrow:before {content: \"▾\";}#sk-container-id-1 div.sk-estimator input.sk-toggleable__control:checked~label.sk-toggleable__label {background-color: #d4ebff;}#sk-container-id-1 div.sk-label input.sk-toggleable__control:checked~label.sk-toggleable__label {background-color: #d4ebff;}#sk-container-id-1 input.sk-hidden--visually {border: 0;clip: rect(1px 1px 1px 1px);clip: rect(1px, 1px, 1px, 1px);height: 1px;margin: -1px;overflow: hidden;padding: 0;position: absolute;width: 1px;}#sk-container-id-1 div.sk-estimator {font-family: monospace;background-color: #f0f8ff;border: 1px dotted black;border-radius: 0.25em;box-sizing: border-box;margin-bottom: 0.5em;}#sk-container-id-1 div.sk-estimator:hover {background-color: #d4ebff;}#sk-container-id-1 div.sk-parallel-item::after {content: \"\";width: 100%;border-bottom: 1px solid gray;flex-grow: 1;}#sk-container-id-1 div.sk-label:hover label.sk-toggleable__label {background-color: #d4ebff;}#sk-container-id-1 div.sk-serial::before {content: \"\";position: absolute;border-left: 1px solid gray;box-sizing: border-box;top: 0;bottom: 0;left: 50%;z-index: 0;}#sk-container-id-1 div.sk-serial {display: flex;flex-direction: column;align-items: center;background-color: white;padding-right: 0.2em;padding-left: 0.2em;position: relative;}#sk-container-id-1 div.sk-item {position: relative;z-index: 1;}#sk-container-id-1 div.sk-parallel {display: flex;align-items: stretch;justify-content: center;background-color: white;position: relative;}#sk-container-id-1 div.sk-item::before, #sk-container-id-1 div.sk-parallel-item::before {content: \"\";position: absolute;border-left: 1px solid gray;box-sizing: border-box;top: 0;bottom: 0;left: 50%;z-index: -1;}#sk-container-id-1 div.sk-parallel-item {display: flex;flex-direction: column;z-index: 1;position: relative;background-color: white;}#sk-container-id-1 div.sk-parallel-item:first-child::after {align-self: flex-end;width: 50%;}#sk-container-id-1 div.sk-parallel-item:last-child::after {align-self: flex-start;width: 50%;}#sk-container-id-1 div.sk-parallel-item:only-child::after {width: 0;}#sk-container-id-1 div.sk-dashed-wrapped {border: 1px dashed gray;margin: 0 0.4em 0.5em 0.4em;box-sizing: border-box;padding-bottom: 0.4em;background-color: white;}#sk-container-id-1 div.sk-label label {font-family: monospace;font-weight: bold;display: inline-block;line-height: 1.2em;}#sk-container-id-1 div.sk-label-container {text-align: center;}#sk-container-id-1 div.sk-container {/* jupyter's `normalize.less` sets `[hidden] { display: none; }` but bootstrap.min.css set `[hidden] { display: none !important; }` so we also need the `!important` here to be able to override the default hidden behavior on the sphinx rendered scikit-learn.org. See: https://github.com/scikit-learn/scikit-learn/issues/21755 */display: inline-block !important;position: relative;}#sk-container-id-1 div.sk-text-repr-fallback {display: none;}</style><div id=\"sk-container-id-1\" class=\"sk-top-container\"><div class=\"sk-text-repr-fallback\"><pre>DecisionTreeClassifier(max_depth=10)</pre><b>In a Jupyter environment, please rerun this cell to show the HTML representation or trust the notebook. <br />On GitHub, the HTML representation is unable to render, please try loading this page with nbviewer.org.</b></div><div class=\"sk-container\" hidden><div class=\"sk-item\"><div class=\"sk-estimator sk-toggleable\"><input class=\"sk-toggleable__control sk-hidden--visually\" id=\"sk-estimator-id-1\" type=\"checkbox\" checked><label for=\"sk-estimator-id-1\" class=\"sk-toggleable__label sk-toggleable__label-arrow\">DecisionTreeClassifier</label><div class=\"sk-toggleable__content\"><pre>DecisionTreeClassifier(max_depth=10)</pre></div></div></div></div></div>"
      ],
      "text/plain": [
       "DecisionTreeClassifier(max_depth=10)"
      ]
     },
     "execution_count": 70,
     "metadata": {},
     "output_type": "execute_result"
    }
   ],
   "source": [
    "dt = DecisionTreeClassifier(max_depth=10)\n",
    "dt.fit(train_X, train_y)"
   ]
  },
  {
   "cell_type": "markdown",
   "metadata": {},
   "source": [
    "#### Evaluating Model"
   ]
  },
  {
   "cell_type": "code",
   "execution_count": 72,
   "metadata": {},
   "outputs": [],
   "source": [
    "def evaluate_dt_model(dt):\n",
    "    y_train_pred = dt.predict(train_X)\n",
    "    y_test_pred = dt.predict(test_X)\n",
    "\n",
    "    print(f'Train Accuracy - {accuracy_score(train_y, y_train_pred)}')\n",
    "    print(f'Test Accuracy - {accuracy_score(test_y, y_test_pred)}')\n",
    "\n",
    "    print('-'*50)\n",
    "    print(f'Train Confusion Matrix {confusion_matrix(train_y, y_train_pred)}')\n",
    "    print(f'Test Confusion Matrix {confusion_matrix(test_y, y_test_pred)}')"
   ]
  },
  {
   "cell_type": "code",
   "execution_count": 73,
   "metadata": {},
   "outputs": [
    {
     "name": "stdout",
     "output_type": "stream",
     "text": [
      "Train Accuracy - 0.856676751497894\n",
      "Test Accuracy - 0.7912218268090154\n",
      "--------------------------------------------------\n",
      "Train Confusion Matrix [[4003  324   29   64  204]\n",
      " [ 247 3871   22  109  332]\n",
      " [  91   61 1709   25   84]\n",
      " [ 140  230   11 2074  132]\n",
      " [ 166   73   28   44 2784]]\n",
      "Test Confusion Matrix [[966  97  24  18  55]\n",
      " [ 82 889  20  63  86]\n",
      " [ 29  40 388  21  42]\n",
      " [ 37 101  10 445  43]\n",
      " [ 44  15  32  21 647]]\n"
     ]
    }
   ],
   "source": [
    "evaluate_dt_model(dt)"
   ]
  },
  {
   "cell_type": "markdown",
   "metadata": {},
   "source": [
    "---"
   ]
  },
  {
   "cell_type": "markdown",
   "metadata": {},
   "source": [
    "### 2. Random Forests"
   ]
  },
  {
   "cell_type": "code",
   "execution_count": 76,
   "metadata": {},
   "outputs": [],
   "source": [
    "from sklearn.ensemble import RandomForestClassifier"
   ]
  },
  {
   "cell_type": "markdown",
   "metadata": {},
   "source": [
    "#### Building Model"
   ]
  },
  {
   "cell_type": "code",
   "execution_count": 78,
   "metadata": {},
   "outputs": [],
   "source": [
    "rf = RandomForestClassifier(random_state=42, n_estimators=100, max_depth=20)"
   ]
  },
  {
   "cell_type": "code",
   "execution_count": 79,
   "metadata": {},
   "outputs": [
    {
     "data": {
      "text/html": [
       "<style>#sk-container-id-2 {color: black;background-color: white;}#sk-container-id-2 pre{padding: 0;}#sk-container-id-2 div.sk-toggleable {background-color: white;}#sk-container-id-2 label.sk-toggleable__label {cursor: pointer;display: block;width: 100%;margin-bottom: 0;padding: 0.3em;box-sizing: border-box;text-align: center;}#sk-container-id-2 label.sk-toggleable__label-arrow:before {content: \"▸\";float: left;margin-right: 0.25em;color: #696969;}#sk-container-id-2 label.sk-toggleable__label-arrow:hover:before {color: black;}#sk-container-id-2 div.sk-estimator:hover label.sk-toggleable__label-arrow:before {color: black;}#sk-container-id-2 div.sk-toggleable__content {max-height: 0;max-width: 0;overflow: hidden;text-align: left;background-color: #f0f8ff;}#sk-container-id-2 div.sk-toggleable__content pre {margin: 0.2em;color: black;border-radius: 0.25em;background-color: #f0f8ff;}#sk-container-id-2 input.sk-toggleable__control:checked~div.sk-toggleable__content {max-height: 200px;max-width: 100%;overflow: auto;}#sk-container-id-2 input.sk-toggleable__control:checked~label.sk-toggleable__label-arrow:before {content: \"▾\";}#sk-container-id-2 div.sk-estimator input.sk-toggleable__control:checked~label.sk-toggleable__label {background-color: #d4ebff;}#sk-container-id-2 div.sk-label input.sk-toggleable__control:checked~label.sk-toggleable__label {background-color: #d4ebff;}#sk-container-id-2 input.sk-hidden--visually {border: 0;clip: rect(1px 1px 1px 1px);clip: rect(1px, 1px, 1px, 1px);height: 1px;margin: -1px;overflow: hidden;padding: 0;position: absolute;width: 1px;}#sk-container-id-2 div.sk-estimator {font-family: monospace;background-color: #f0f8ff;border: 1px dotted black;border-radius: 0.25em;box-sizing: border-box;margin-bottom: 0.5em;}#sk-container-id-2 div.sk-estimator:hover {background-color: #d4ebff;}#sk-container-id-2 div.sk-parallel-item::after {content: \"\";width: 100%;border-bottom: 1px solid gray;flex-grow: 1;}#sk-container-id-2 div.sk-label:hover label.sk-toggleable__label {background-color: #d4ebff;}#sk-container-id-2 div.sk-serial::before {content: \"\";position: absolute;border-left: 1px solid gray;box-sizing: border-box;top: 0;bottom: 0;left: 50%;z-index: 0;}#sk-container-id-2 div.sk-serial {display: flex;flex-direction: column;align-items: center;background-color: white;padding-right: 0.2em;padding-left: 0.2em;position: relative;}#sk-container-id-2 div.sk-item {position: relative;z-index: 1;}#sk-container-id-2 div.sk-parallel {display: flex;align-items: stretch;justify-content: center;background-color: white;position: relative;}#sk-container-id-2 div.sk-item::before, #sk-container-id-2 div.sk-parallel-item::before {content: \"\";position: absolute;border-left: 1px solid gray;box-sizing: border-box;top: 0;bottom: 0;left: 50%;z-index: -1;}#sk-container-id-2 div.sk-parallel-item {display: flex;flex-direction: column;z-index: 1;position: relative;background-color: white;}#sk-container-id-2 div.sk-parallel-item:first-child::after {align-self: flex-end;width: 50%;}#sk-container-id-2 div.sk-parallel-item:last-child::after {align-self: flex-start;width: 50%;}#sk-container-id-2 div.sk-parallel-item:only-child::after {width: 0;}#sk-container-id-2 div.sk-dashed-wrapped {border: 1px dashed gray;margin: 0 0.4em 0.5em 0.4em;box-sizing: border-box;padding-bottom: 0.4em;background-color: white;}#sk-container-id-2 div.sk-label label {font-family: monospace;font-weight: bold;display: inline-block;line-height: 1.2em;}#sk-container-id-2 div.sk-label-container {text-align: center;}#sk-container-id-2 div.sk-container {/* jupyter's `normalize.less` sets `[hidden] { display: none; }` but bootstrap.min.css set `[hidden] { display: none !important; }` so we also need the `!important` here to be able to override the default hidden behavior on the sphinx rendered scikit-learn.org. See: https://github.com/scikit-learn/scikit-learn/issues/21755 */display: inline-block !important;position: relative;}#sk-container-id-2 div.sk-text-repr-fallback {display: none;}</style><div id=\"sk-container-id-2\" class=\"sk-top-container\"><div class=\"sk-text-repr-fallback\"><pre>RandomForestClassifier(max_depth=20, random_state=42)</pre><b>In a Jupyter environment, please rerun this cell to show the HTML representation or trust the notebook. <br />On GitHub, the HTML representation is unable to render, please try loading this page with nbviewer.org.</b></div><div class=\"sk-container\" hidden><div class=\"sk-item\"><div class=\"sk-estimator sk-toggleable\"><input class=\"sk-toggleable__control sk-hidden--visually\" id=\"sk-estimator-id-2\" type=\"checkbox\" checked><label for=\"sk-estimator-id-2\" class=\"sk-toggleable__label sk-toggleable__label-arrow\">RandomForestClassifier</label><div class=\"sk-toggleable__content\"><pre>RandomForestClassifier(max_depth=20, random_state=42)</pre></div></div></div></div></div>"
      ],
      "text/plain": [
       "RandomForestClassifier(max_depth=20, random_state=42)"
      ]
     },
     "execution_count": 79,
     "metadata": {},
     "output_type": "execute_result"
    }
   ],
   "source": [
    "rf.fit(train_X, train_y)"
   ]
  },
  {
   "cell_type": "code",
   "execution_count": 80,
   "metadata": {
    "scrolled": true
   },
   "outputs": [
    {
     "data": {
      "text/plain": [
       "[DecisionTreeClassifier(max_depth=20, max_features='sqrt',\n",
       "                        random_state=1608637542),\n",
       " DecisionTreeClassifier(max_depth=20, max_features='sqrt',\n",
       "                        random_state=1273642419),\n",
       " DecisionTreeClassifier(max_depth=20, max_features='sqrt',\n",
       "                        random_state=1935803228),\n",
       " DecisionTreeClassifier(max_depth=20, max_features='sqrt',\n",
       "                        random_state=787846414),\n",
       " DecisionTreeClassifier(max_depth=20, max_features='sqrt',\n",
       "                        random_state=996406378),\n",
       " DecisionTreeClassifier(max_depth=20, max_features='sqrt',\n",
       "                        random_state=1201263687),\n",
       " DecisionTreeClassifier(max_depth=20, max_features='sqrt',\n",
       "                        random_state=423734972),\n",
       " DecisionTreeClassifier(max_depth=20, max_features='sqrt',\n",
       "                        random_state=415968276),\n",
       " DecisionTreeClassifier(max_depth=20, max_features='sqrt',\n",
       "                        random_state=670094950),\n",
       " DecisionTreeClassifier(max_depth=20, max_features='sqrt',\n",
       "                        random_state=1914837113),\n",
       " DecisionTreeClassifier(max_depth=20, max_features='sqrt',\n",
       "                        random_state=669991378),\n",
       " DecisionTreeClassifier(max_depth=20, max_features='sqrt',\n",
       "                        random_state=429389014),\n",
       " DecisionTreeClassifier(max_depth=20, max_features='sqrt',\n",
       "                        random_state=249467210),\n",
       " DecisionTreeClassifier(max_depth=20, max_features='sqrt',\n",
       "                        random_state=1972458954),\n",
       " DecisionTreeClassifier(max_depth=20, max_features='sqrt',\n",
       "                        random_state=1572714583),\n",
       " DecisionTreeClassifier(max_depth=20, max_features='sqrt',\n",
       "                        random_state=1433267572),\n",
       " DecisionTreeClassifier(max_depth=20, max_features='sqrt',\n",
       "                        random_state=434285667),\n",
       " DecisionTreeClassifier(max_depth=20, max_features='sqrt',\n",
       "                        random_state=613608295),\n",
       " DecisionTreeClassifier(max_depth=20, max_features='sqrt',\n",
       "                        random_state=893664919),\n",
       " DecisionTreeClassifier(max_depth=20, max_features='sqrt',\n",
       "                        random_state=648061058),\n",
       " DecisionTreeClassifier(max_depth=20, max_features='sqrt', random_state=88409749),\n",
       " DecisionTreeClassifier(max_depth=20, max_features='sqrt',\n",
       "                        random_state=242285876),\n",
       " DecisionTreeClassifier(max_depth=20, max_features='sqrt',\n",
       "                        random_state=2018247425),\n",
       " DecisionTreeClassifier(max_depth=20, max_features='sqrt',\n",
       "                        random_state=953477463),\n",
       " DecisionTreeClassifier(max_depth=20, max_features='sqrt',\n",
       "                        random_state=1427830251),\n",
       " DecisionTreeClassifier(max_depth=20, max_features='sqrt',\n",
       "                        random_state=1883569565),\n",
       " DecisionTreeClassifier(max_depth=20, max_features='sqrt',\n",
       "                        random_state=911989541),\n",
       " DecisionTreeClassifier(max_depth=20, max_features='sqrt', random_state=3344769),\n",
       " DecisionTreeClassifier(max_depth=20, max_features='sqrt',\n",
       "                        random_state=780932287),\n",
       " DecisionTreeClassifier(max_depth=20, max_features='sqrt',\n",
       "                        random_state=2114032571),\n",
       " DecisionTreeClassifier(max_depth=20, max_features='sqrt',\n",
       "                        random_state=787716372),\n",
       " DecisionTreeClassifier(max_depth=20, max_features='sqrt',\n",
       "                        random_state=504579232),\n",
       " DecisionTreeClassifier(max_depth=20, max_features='sqrt',\n",
       "                        random_state=1306710475),\n",
       " DecisionTreeClassifier(max_depth=20, max_features='sqrt',\n",
       "                        random_state=479546681),\n",
       " DecisionTreeClassifier(max_depth=20, max_features='sqrt',\n",
       "                        random_state=106328085),\n",
       " DecisionTreeClassifier(max_depth=20, max_features='sqrt', random_state=30349564),\n",
       " DecisionTreeClassifier(max_depth=20, max_features='sqrt',\n",
       "                        random_state=1855189739),\n",
       " DecisionTreeClassifier(max_depth=20, max_features='sqrt', random_state=99052376),\n",
       " DecisionTreeClassifier(max_depth=20, max_features='sqrt',\n",
       "                        random_state=1250819632),\n",
       " DecisionTreeClassifier(max_depth=20, max_features='sqrt',\n",
       "                        random_state=106406362),\n",
       " DecisionTreeClassifier(max_depth=20, max_features='sqrt',\n",
       "                        random_state=480404538),\n",
       " DecisionTreeClassifier(max_depth=20, max_features='sqrt',\n",
       "                        random_state=1717389822),\n",
       " DecisionTreeClassifier(max_depth=20, max_features='sqrt',\n",
       "                        random_state=599121577),\n",
       " DecisionTreeClassifier(max_depth=20, max_features='sqrt',\n",
       "                        random_state=200427519),\n",
       " DecisionTreeClassifier(max_depth=20, max_features='sqrt',\n",
       "                        random_state=1254751707),\n",
       " DecisionTreeClassifier(max_depth=20, max_features='sqrt',\n",
       "                        random_state=2034764475),\n",
       " DecisionTreeClassifier(max_depth=20, max_features='sqrt',\n",
       "                        random_state=1573512143),\n",
       " DecisionTreeClassifier(max_depth=20, max_features='sqrt',\n",
       "                        random_state=999745294),\n",
       " DecisionTreeClassifier(max_depth=20, max_features='sqrt',\n",
       "                        random_state=1958805693),\n",
       " DecisionTreeClassifier(max_depth=20, max_features='sqrt',\n",
       "                        random_state=389151677),\n",
       " DecisionTreeClassifier(max_depth=20, max_features='sqrt',\n",
       "                        random_state=1224821422),\n",
       " DecisionTreeClassifier(max_depth=20, max_features='sqrt',\n",
       "                        random_state=508464061),\n",
       " DecisionTreeClassifier(max_depth=20, max_features='sqrt',\n",
       "                        random_state=857592370),\n",
       " DecisionTreeClassifier(max_depth=20, max_features='sqrt',\n",
       "                        random_state=1642661739),\n",
       " DecisionTreeClassifier(max_depth=20, max_features='sqrt', random_state=61136438),\n",
       " DecisionTreeClassifier(max_depth=20, max_features='sqrt',\n",
       "                        random_state=2075460851),\n",
       " DecisionTreeClassifier(max_depth=20, max_features='sqrt',\n",
       "                        random_state=396917567),\n",
       " DecisionTreeClassifier(max_depth=20, max_features='sqrt',\n",
       "                        random_state=2004731384),\n",
       " DecisionTreeClassifier(max_depth=20, max_features='sqrt',\n",
       "                        random_state=199502978),\n",
       " DecisionTreeClassifier(max_depth=20, max_features='sqrt',\n",
       "                        random_state=1545932260),\n",
       " DecisionTreeClassifier(max_depth=20, max_features='sqrt',\n",
       "                        random_state=461901618),\n",
       " DecisionTreeClassifier(max_depth=20, max_features='sqrt',\n",
       "                        random_state=774414982),\n",
       " DecisionTreeClassifier(max_depth=20, max_features='sqrt',\n",
       "                        random_state=732395540),\n",
       " DecisionTreeClassifier(max_depth=20, max_features='sqrt',\n",
       "                        random_state=1934879560),\n",
       " DecisionTreeClassifier(max_depth=20, max_features='sqrt',\n",
       "                        random_state=279394470),\n",
       " DecisionTreeClassifier(max_depth=20, max_features='sqrt', random_state=56972561),\n",
       " DecisionTreeClassifier(max_depth=20, max_features='sqrt',\n",
       "                        random_state=1927948675),\n",
       " DecisionTreeClassifier(max_depth=20, max_features='sqrt',\n",
       "                        random_state=1899242072),\n",
       " DecisionTreeClassifier(max_depth=20, max_features='sqrt',\n",
       "                        random_state=1999874363),\n",
       " DecisionTreeClassifier(max_depth=20, max_features='sqrt',\n",
       "                        random_state=271820813),\n",
       " DecisionTreeClassifier(max_depth=20, max_features='sqrt',\n",
       "                        random_state=1324556529),\n",
       " DecisionTreeClassifier(max_depth=20, max_features='sqrt',\n",
       "                        random_state=1655351289),\n",
       " DecisionTreeClassifier(max_depth=20, max_features='sqrt',\n",
       "                        random_state=1308306184),\n",
       " DecisionTreeClassifier(max_depth=20, max_features='sqrt', random_state=68574553),\n",
       " DecisionTreeClassifier(max_depth=20, max_features='sqrt',\n",
       "                        random_state=419498548),\n",
       " DecisionTreeClassifier(max_depth=20, max_features='sqrt',\n",
       "                        random_state=991681409),\n",
       " DecisionTreeClassifier(max_depth=20, max_features='sqrt',\n",
       "                        random_state=791274835),\n",
       " DecisionTreeClassifier(max_depth=20, max_features='sqrt',\n",
       "                        random_state=1035196507),\n",
       " DecisionTreeClassifier(max_depth=20, max_features='sqrt',\n",
       "                        random_state=1890440558),\n",
       " DecisionTreeClassifier(max_depth=20, max_features='sqrt',\n",
       "                        random_state=787110843),\n",
       " DecisionTreeClassifier(max_depth=20, max_features='sqrt',\n",
       "                        random_state=524150214),\n",
       " DecisionTreeClassifier(max_depth=20, max_features='sqrt',\n",
       "                        random_state=472432043),\n",
       " DecisionTreeClassifier(max_depth=20, max_features='sqrt',\n",
       "                        random_state=2126768636),\n",
       " DecisionTreeClassifier(max_depth=20, max_features='sqrt',\n",
       "                        random_state=1431061255),\n",
       " DecisionTreeClassifier(max_depth=20, max_features='sqrt',\n",
       "                        random_state=147697582),\n",
       " DecisionTreeClassifier(max_depth=20, max_features='sqrt',\n",
       "                        random_state=744595490),\n",
       " DecisionTreeClassifier(max_depth=20, max_features='sqrt',\n",
       "                        random_state=1758017741),\n",
       " DecisionTreeClassifier(max_depth=20, max_features='sqrt',\n",
       "                        random_state=1679592528),\n",
       " DecisionTreeClassifier(max_depth=20, max_features='sqrt',\n",
       "                        random_state=1111451555),\n",
       " DecisionTreeClassifier(max_depth=20, max_features='sqrt',\n",
       "                        random_state=782698033),\n",
       " DecisionTreeClassifier(max_depth=20, max_features='sqrt',\n",
       "                        random_state=698027879),\n",
       " DecisionTreeClassifier(max_depth=20, max_features='sqrt',\n",
       "                        random_state=1096768899),\n",
       " DecisionTreeClassifier(max_depth=20, max_features='sqrt',\n",
       "                        random_state=1338788865),\n",
       " DecisionTreeClassifier(max_depth=20, max_features='sqrt',\n",
       "                        random_state=1826030589),\n",
       " DecisionTreeClassifier(max_depth=20, max_features='sqrt', random_state=86191493),\n",
       " DecisionTreeClassifier(max_depth=20, max_features='sqrt',\n",
       "                        random_state=893102645),\n",
       " DecisionTreeClassifier(max_depth=20, max_features='sqrt',\n",
       "                        random_state=200619113),\n",
       " DecisionTreeClassifier(max_depth=20, max_features='sqrt',\n",
       "                        random_state=290770691),\n",
       " DecisionTreeClassifier(max_depth=20, max_features='sqrt',\n",
       "                        random_state=793943861),\n",
       " DecisionTreeClassifier(max_depth=20, max_features='sqrt',\n",
       "                        random_state=134489564)]"
      ]
     },
     "execution_count": 80,
     "metadata": {},
     "output_type": "execute_result"
    }
   ],
   "source": [
    "rf.estimators_"
   ]
  },
  {
   "cell_type": "markdown",
   "metadata": {},
   "source": [
    "#### Evaluating Model"
   ]
  },
  {
   "cell_type": "code",
   "execution_count": 82,
   "metadata": {},
   "outputs": [
    {
     "name": "stdout",
     "output_type": "stream",
     "text": [
      "Train Accuracy - 0.8840837634217239\n",
      "Test Accuracy - 0.7655990510083037\n",
      "--------------------------------------------------\n",
      "Train Confusion Matrix [[4528   86    0    9    1]\n",
      " [ 173 4397    0    8    3]\n",
      " [ 349  275 1204   34  108]\n",
      " [ 173  323    3 2076   12]\n",
      " [ 284   95    1   17 2698]]\n",
      "Test Confusion Matrix [[1061   86    1   11    1]\n",
      " [ 109 1020    1    7    3]\n",
      " [ 126  147  147   25   75]\n",
      " [  39  171    1  402   23]\n",
      " [ 115   38    2    7  597]]\n"
     ]
    }
   ],
   "source": [
    "evaluate_dt_model(rf)"
   ]
  },
  {
   "cell_type": "markdown",
   "metadata": {},
   "source": [
    "---"
   ]
  },
  {
   "cell_type": "markdown",
   "metadata": {},
   "source": [
    "### 3. Logistic Regression"
   ]
  },
  {
   "cell_type": "code",
   "execution_count": 90,
   "metadata": {},
   "outputs": [],
   "source": [
    "# Write your code here to build any 3 models and evaluate them using the required metrics\n",
    "# importing libraries required for model building and evaluation\n",
    "from sklearn.linear_model import LogisticRegression\n",
    "from sklearn.tree import DecisionTreeClassifier\n",
    "from sklearn.ensemble import RandomForestClassifier\n",
    "from sklearn.naive_bayes import MultinomialNB\n",
    "\n",
    "from sklearn.model_selection import StratifiedKFold,GridSearchCV,train_test_split\n",
    "\n",
    "from sklearn.metrics import roc_auc_score,accuracy_score,precision_score,recall_score,f1_score,classification_report\n",
    "from sklearn.metrics import confusion_matrix,ConfusionMatrixDisplay"
   ]
  },
  {
   "cell_type": "code",
   "execution_count": 92,
   "metadata": {},
   "outputs": [],
   "source": [
    "# Function to evaluate the model and display the results\n",
    "def eval_model(y_test, y_pred, y_pred_proba, type='Training'):\n",
    "    print(type, 'results')\n",
    "    print('Accuracy:', round(accuracy_score(y_test, y_pred), 2))\n",
    "    print('Precision:', round(precision_score(y_test, y_pred, average='weighted'), 2))\n",
    "    print('Recall:', round(recall_score(y_test, y_pred, average='weighted'), 2))\n",
    "    print('F1 Score:', round(f1_score(y_test, y_pred, average='weighted'), 2))\n",
    "\n",
    "    # Handle ROC AUC for multiple classes safely\n",
    "    try:\n",
    "        print('ROC AUC Score:', round(roc_auc_score(y_test, y_pred_proba, average='weighted', multi_class='ovr'), 2))\n",
    "    except ValueError:\n",
    "        print('ROC AUC Score: Not applicable for this case')\n",
    "\n",
    "    print('Classification Report:\\n', classification_report(y_test, y_pred))\n",
    "\n",
    "    # Generate and plot confusion matrix\n",
    "    cm = confusion_matrix(y_test, y_pred)\n",
    "    disp = ConfusionMatrixDisplay(confusion_matrix=cm, display_labels=sorted(set(y_test) | set(y_pred)))\n",
    "    disp.plot()"
   ]
  },
  {
   "cell_type": "code",
   "execution_count": 93,
   "metadata": {},
   "outputs": [],
   "source": [
    "# function to grid search the best parameters for the model\n",
    "def run_model(model,param_grid):\n",
    "    cv=StratifiedKFold(n_splits=5,shuffle=True,random_state=40)\n",
    "    grid=GridSearchCV(model,param_grid={},cv=cv,scoring='f1_weighted',verbose=1,n_jobs=-1)\n",
    "    grid.fit(train_X,train_y)\n",
    "    return grid.best_estimator_"
   ]
  },
  {
   "cell_type": "code",
   "execution_count": 94,
   "metadata": {},
   "outputs": [
    {
     "name": "stdout",
     "output_type": "stream",
     "text": [
      "Fitting 5 folds for each of 1 candidates, totalling 5 fits\n"
     ]
    },
    {
     "name": "stderr",
     "output_type": "stream",
     "text": [
      "C:\\Users\\anshu\\anaconda3\\Lib\\site-packages\\sklearn\\linear_model\\_logistic.py:458: ConvergenceWarning:\n",
      "\n",
      "lbfgs failed to converge (status=1):\n",
      "STOP: TOTAL NO. OF ITERATIONS REACHED LIMIT.\n",
      "\n",
      "Increase the number of iterations (max_iter) or scale the data as shown in:\n",
      "    https://scikit-learn.org/stable/modules/preprocessing.html\n",
      "Please also refer to the documentation for alternative solver options:\n",
      "    https://scikit-learn.org/stable/modules/linear_model.html#logistic-regression\n",
      "\n"
     ]
    },
    {
     "name": "stdout",
     "output_type": "stream",
     "text": [
      "Training results\n",
      "Accuracy: 0.98\n",
      "Precision: 0.98\n",
      "Recall: 0.98\n",
      "F1 Score: 0.98\n",
      "ROC AUC Score: 1.0\n",
      "Classification Report:\n",
      "               precision    recall  f1-score   support\n",
      "\n",
      "           0       0.97      0.99      0.98      4624\n",
      "           1       0.97      0.99      0.98      4581\n",
      "           2       0.99      0.96      0.98      1970\n",
      "           3       0.98      0.97      0.97      2587\n",
      "           4       0.99      0.98      0.98      3095\n",
      "\n",
      "    accuracy                           0.98     16857\n",
      "   macro avg       0.98      0.98      0.98     16857\n",
      "weighted avg       0.98      0.98      0.98     16857\n",
      "\n",
      "Test results\n",
      "Accuracy: 0.94\n",
      "Precision: 0.94\n",
      "Recall: 0.94\n",
      "F1 Score: 0.94\n",
      "ROC AUC Score: 1.0\n",
      "Classification Report:\n",
      "               precision    recall  f1-score   support\n",
      "\n",
      "           0       0.94      0.97      0.95      1160\n",
      "           1       0.92      0.96      0.94      1140\n",
      "           2       0.98      0.87      0.92       520\n",
      "           3       0.93      0.92      0.92       636\n",
      "           4       0.95      0.94      0.95       759\n",
      "\n",
      "    accuracy                           0.94      4215\n",
      "   macro avg       0.94      0.93      0.94      4215\n",
      "weighted avg       0.94      0.94      0.94      4215\n",
      "\n"
     ]
    },
    {
     "data": {
      "image/png": "[encoded data removed]",
      "text/plain": [
       "<Figure size 640x480 with 2 Axes>"
      ]
     },
     "metadata": {},
     "output_type": "display_data"
    },
    {
     "data": {
      "image/png": "[encoded data removed]",
      "text/plain": [
       "<Figure size 640x480 with 2 Axes>"
      ]
     },
     "metadata": {},
     "output_type": "display_data"
    }
   ],
   "source": [
    "#running and evaluating the Logistic Regression model\n",
    "params = {\n",
    "    'C': [0.001, 0.01, 0.1, 1, 10, 100],\n",
    "    'penalty': ['l1', 'l2', 'elasticnet', 'none'],\n",
    "    'solver': ['newton-cg', 'lbfgs', 'liblinear', 'sag', 'saga'],\n",
    "    'max_iter': [100, 200, 300, 500, 1000],\n",
    "    'class_weight': [None, 'balanced']\n",
    "}\n",
    "model=run_model(LogisticRegression(),params)\n",
    "eval_model(train_y,model.predict(train_X),model.predict_proba(train_X),type='Training')\n",
    "eval_model(test_y,model.predict(test_X),model.predict_proba(test_X),type='Test')"
   ]
  },
  {
   "cell_type": "markdown",
   "metadata": {},
   "source": [
    "### Model Evaluation Summary\n",
    "\n",
    "1. **Decision Tree** - Train Accuracy - 86% Test Accuracy - 79%\n",
    "2. **Random Forest** - Train Accuracy - 88% Test Accuracy - 77%\n",
    "3. **Logistic Regression** - Train Accuracy - 98% Test Accuracy - 94%\n",
    "\n",
    "Considering the stats shown above **Decision Tree gives us a balanced result and can be considered the best model out the 3**."
   ]
  },
  {
   "cell_type": "markdown",
   "metadata": {},
   "source": [
    "---"
   ]
  },
  {
   "cell_type": "markdown",
   "metadata": {},
   "source": [
    "### Model Inference - Predicting Topic for a New Complaint"
   ]
  },
  {
   "cell_type": "code",
   "execution_count": 98,
   "metadata": {},
   "outputs": [],
   "source": [
    "# Original Topic names - index map used in Topic Modelling\n",
    "Topic_names_map = {\n",
    "    0: 'Bank Account services',\n",
    "    1: 'Theft/Dispute Reporting',\n",
    "    2: 'Others',\n",
    "    3: 'Credit card or prepaid card',\n",
    "    4: 'Mortgage/Loan'\n",
    "}"
   ]
  },
  {
   "cell_type": "code",
   "execution_count": 99,
   "metadata": {},
   "outputs": [],
   "source": [
    "new_complaint = 'I am writing to dispute several fraudulent transactions on my checking account ending in 1234. These charges, totaling $2,500, were made on March 20, 2025, at merchants I have never visited. I did not authorize these transactions, and my debit card has been in my possession the entire time.I believe this is a case of fraud, as I have no connection to these charges. I have already contacted the merchants, but they informed me that the charges cannot be reversed on their end. I am filing a claim and request an immediate investigation into these unauthorized transactions. Please let me know what additional documentation you need from me to resolve this issue as soon as possible.'\n",
    "\n",
    "df_new_complaint = pd.DataFrame([new_complaint], columns=[\"complaint\"])\n",
    "\n",
    "new_comp_vec=count_vect.transform(df_new_complaint['complaint'])\n",
    "\n",
    "new_tfidf=tfidf_transformer.transform(new_comp_vec)"
   ]
  },
  {
   "cell_type": "markdown",
   "metadata": {},
   "source": [
    "#### Checking Topic of the new complaint"
   ]
  },
  {
   "cell_type": "code",
   "execution_count": 101,
   "metadata": {},
   "outputs": [
    {
     "name": "stdout",
     "output_type": "stream",
     "text": [
      "Complaint Topic - Theft/Dispute Reporting\n"
     ]
    }
   ],
   "source": [
    "print(f'Complaint Topic - {Topic_names_map[dt.predict(new_tfidf)[0]]}')"
   ]
  }
 ],
 "metadata": {
  "colab": {
   "collapsed_sections": [
    "T9jD_6SeJrF3",
    "5DfCSbbmJrF4",
    "yYzD85nTJrGA",
    "piyLxzj6v07j",
    "280Vbqk-7a8M"
   ],
   "provenance": []
  },
  "kernelspec": {
   "display_name": "Python 3 (ipykernel)",
   "language": "python",
   "name": "python3"
  },
  "language_info": {
   "codemirror_mode": {
    "name": "ipython",
    "version": 3
   },
   "file_extension": ".py",
   "mimetype": "text/x-python",
   "name": "python",
   "nbconvert_exporter": "python",
   "pygments_lexer": "ipython3",
   "version": "3.11.7"
  }
 },
 "nbformat": 4,
 "nbformat_minor": 4
}
